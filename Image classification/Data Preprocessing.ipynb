{
 "cells": [
  {
   "cell_type": "markdown",
   "source": [
    "### Data Preprocessing"
   ],
   "metadata": {
    "collapsed": false
   },
   "id": "5d050592f772095c"
  },
  {
   "cell_type": "code",
   "execution_count": 2,
   "id": "initial_id",
   "metadata": {
    "collapsed": true,
    "ExecuteTime": {
     "end_time": "2024-03-14T12:32:54.725092Z",
     "start_time": "2024-03-14T12:32:54.719401Z"
    }
   },
   "outputs": [],
   "source": [
    "import pandas as pd\n",
    "import matplotlib.pyplot as plt\n",
    "import mpl_finance\n",
    "import yfinance as yf"
   ]
  },
  {
   "cell_type": "code",
   "outputs": [
    {
     "name": "stderr",
     "output_type": "stream",
     "text": [
      "[*********************100%%**********************]  1 of 1 completed\n"
     ]
    }
   ],
   "source": [
    "#root_dir = \"\\\\\"\n",
    "approach = ['BB','RSI']\n",
    "methods = ['BPS','BHPS','BPHS']\n",
    "str_dir_1 = str()\n",
    "str_dir_2 = str()\n",
    "\n",
    "# Pull data from yahoo with a timeline from 1983 1st Jan to - 2021 17th June\n",
    "ticker = '^GSPC'\n",
    "df = yf.download(ticker, start = '1983-01-01', end = '2024-03-14')\n",
    "df.reset_index(inplace=True)\n",
    "\n",
    "# Save the raw file to CSV\n",
    "df.to_csv(\"./stockpred/data/stock_data.csv\", index = False)"
   ],
   "metadata": {
    "collapsed": false,
    "ExecuteTime": {
     "end_time": "2024-03-14T12:33:02.803755Z",
     "start_time": "2024-03-14T12:32:59.506832Z"
    }
   },
   "id": "6e3d6f03b9cff48e",
   "execution_count": 3
  },
  {
   "cell_type": "code",
   "outputs": [],
   "source": [
    "# Import the scraped data\n",
    "df = pd.read_csv(\"./stockpred/data/stock_data.csv\")\n",
    "\n",
    "df = df[['Date','Open','High','Low','Close']]\n",
    "df = df.rename({'Date':'date','High':'high','Low':'low','Open':'open','Close':'close'},axis=1)\n",
    "df = df.set_index('date')\n",
    "df.index = pd.to_datetime(df.index)\n",
    "df = df.astype(float)"
   ],
   "metadata": {
    "collapsed": false,
    "ExecuteTime": {
     "end_time": "2024-03-14T12:33:07.325940Z",
     "start_time": "2024-03-14T12:33:07.264362Z"
    }
   },
   "id": "c53a0f4570292dba",
   "execution_count": 4
  },
  {
   "cell_type": "markdown",
   "source": [
    "#### Bollinger band approach"
   ],
   "metadata": {
    "collapsed": false
   },
   "id": "e02927907f4d5344"
  },
  {
   "cell_type": "code",
   "outputs": [],
   "source": [
    "import ta\n",
    "\n",
    "indicator_bb = ta.volatility.BollingerBands(close=df['close'], window=20, window_dev=1.5)\n",
    "\n",
    "# 상한선, 하한선, SMA 추가\n",
    "df['sma_20'] = indicator_bb.bollinger_mavg()\n",
    "df['upper_bb'] = indicator_bb.bollinger_hband()\n",
    "df['lower_bb'] = indicator_bb.bollinger_lband()\n",
    "\n",
    "# Function for bb strategy\n",
    "def implement_bb_approach(data, lower_bb, upper_bb):\n",
    "    bb_signal = []\n",
    "    for i in range(len(data)):\n",
    "        if i == 0:\n",
    "            # 첫 번째 요소는 비교할 이전 값이 없으므로 넘어갑니다.\n",
    "            bb_signal.append(0)\n",
    "            continue\n",
    "        # 시나리오 1: 현재 가격이 하한선 아래 - 매수 신호\n",
    "        if data[i] < lower_bb[i]:\n",
    "            signal = 1\n",
    "        # 시나리오 2: 현재 가격이 상한선 위 - 매도 신호\n",
    "        elif data[i] > upper_bb[i]:\n",
    "            signal = -1\n",
    "        else:\n",
    "            signal = 0  # 그 외 경우는 홀드 신호\n",
    "        bb_signal.append(signal)\n",
    "    \n",
    "    return bb_signal"
   ],
   "metadata": {
    "collapsed": false,
    "ExecuteTime": {
     "end_time": "2024-03-14T12:33:20.941383Z",
     "start_time": "2024-03-14T12:33:20.902603Z"
    }
   },
   "id": "74f954e518c74060",
   "execution_count": 5
  },
  {
   "cell_type": "markdown",
   "source": [
    "#### RSI Strategy"
   ],
   "metadata": {
    "collapsed": false
   },
   "id": "f3f8798ad1927f92"
  },
  {
   "cell_type": "code",
   "outputs": [],
   "source": [
    "def implement_rsi_approach(close, window):\n",
    "\n",
    "    # Price increase or decrease over previous day\n",
    "    dif = close.diff()\n",
    "    dif = dif[1:]\n",
    "\n",
    "    # pos_m identifies stock price going up\n",
    "    # neg_m udentifies stock price going down\n",
    "    pos_m, neg_m = dif.copy(), dif.copy()\n",
    "    pos_m[pos_m < 0] = 0\n",
    "    neg_m[neg_m > 0] = 0\n",
    "\n",
    "    # Positive Rolling Mean Exponential\n",
    "    prme = pos_m.ewm(span=window).mean()\n",
    "    # Negative Rolling Mean Exponential\n",
    "    nrme = neg_m.abs().ewm(span=window).mean()\n",
    "\n",
    "    # Ratio of magnitude of up move to down move\n",
    "    RSE = prme / nrme\n",
    "    RSIE = 100.0 - (100.0 / (1.0 + RSE))\n",
    "    return RSIE"
   ],
   "metadata": {
    "collapsed": false,
    "ExecuteTime": {
     "end_time": "2024-03-14T12:33:23.389373Z",
     "start_time": "2024-03-14T12:33:23.369149Z"
    }
   },
   "id": "15d58b142074bf41",
   "execution_count": 6
  },
  {
   "cell_type": "code",
   "outputs": [
    {
     "name": "stdout",
     "output_type": "stream",
     "text": [
      " 0    7135\n",
      "-1    2072\n",
      " 1    1177\n",
      "Name: bb_signal, dtype: int64\n"
     ]
    }
   ],
   "source": [
    "for i in approach:\n",
    "    # BB\n",
    "    if i == \"BB\":\n",
    "        bb_signal = implement_bb_approach(df['close'], df['lower_bb'], df['upper_bb'])\n",
    "        bb_signal = pd.DataFrame(bb_signal).rename(columns = {0:'bb_signal'}).set_index(df.index)\n",
    "        df = df.join(bb_signal, how = 'inner')\n",
    "        df.reset_index(inplace=True)\n",
    "        df.to_csv(\"./stockpred/data/df_bb_out.csv\")\n",
    "        print(df.bb_signal.value_counts(dropna=False))\n",
    "    # RSI\n",
    "    else:\n",
    "        rsi_signal = implement_rsi_approach(df['close'], 14)\n",
    "        rsi_signal = pd.DataFrame(rsi_signal).rename(columns={'close': 'rsie'})\n",
    "        df = pd.merge(df, rsi_signal, how='left', left_index=True, right_index=True)\n",
    "        df.to_csv(\"./stockpred/data/df_rsi_out.csv\")"
   ],
   "metadata": {
    "collapsed": false,
    "ExecuteTime": {
     "end_time": "2024-03-14T12:33:30.281774Z",
     "start_time": "2024-03-14T12:33:29.979753Z"
    }
   },
   "id": "93d0f96e3901ee80",
   "execution_count": 7
  },
  {
   "cell_type": "code",
   "outputs": [
    {
     "data": {
      "text/plain": "            date         open         high          low        close  \\\n0     1983-01-03   140.649994   141.330002   138.199997   138.339996   \n1     1983-01-04   138.330002   141.360001   138.080002   141.360001   \n2     1983-01-05   141.350006   142.600006   141.149994   141.960007   \n3     1983-01-06   142.009995   145.770004   142.009995   145.270004   \n4     1983-01-07   145.270004   146.460007   145.149994   145.179993   \n...          ...          ...          ...          ...          ...   \n10379 2024-03-07  5132.379883  5165.620117  5128.209961  5157.359863   \n10380 2024-03-08  5164.459961  5189.259766  5117.500000  5123.689941   \n10381 2024-03-11  5111.959961  5124.660156  5091.140137  5117.939941   \n10382 2024-03-12  5134.299805  5179.870117  5114.479980  5175.270020   \n10383 2024-03-13  5173.490234  5179.140137  5151.879883  5165.310059   \n\n            sma_20     upper_bb     lower_bb  bb_signal        rsie  \n0              NaN          NaN          NaN          0         NaN  \n1              NaN          NaN          NaN          0  100.000000  \n2              NaN          NaN          NaN          0  100.000000  \n3              NaN          NaN          NaN          0  100.000000  \n4              NaN          NaN          NaN          0   98.325446  \n...            ...          ...          ...        ...         ...  \n10379  5054.556421  5139.477241  4969.635600         -1   69.023328  \n10380  5060.845410  5146.281074  4975.409746          0   59.262559  \n10381  5065.411914  5151.940529  4978.883299          0   57.655965  \n10382  5073.083423  5165.273120  4980.893725         -1   67.722643  \n10383  5083.690430  5170.782495  4996.598365          0   64.642066  \n\n[10384 rows x 10 columns]",
      "text/html": "<div>\n<style scoped>\n    .dataframe tbody tr th:only-of-type {\n        vertical-align: middle;\n    }\n\n    .dataframe tbody tr th {\n        vertical-align: top;\n    }\n\n    .dataframe thead th {\n        text-align: right;\n    }\n</style>\n<table border=\"1\" class=\"dataframe\">\n  <thead>\n    <tr style=\"text-align: right;\">\n      <th></th>\n      <th>date</th>\n      <th>open</th>\n      <th>high</th>\n      <th>low</th>\n      <th>close</th>\n      <th>sma_20</th>\n      <th>upper_bb</th>\n      <th>lower_bb</th>\n      <th>bb_signal</th>\n      <th>rsie</th>\n    </tr>\n  </thead>\n  <tbody>\n    <tr>\n      <th>0</th>\n      <td>1983-01-03</td>\n      <td>140.649994</td>\n      <td>141.330002</td>\n      <td>138.199997</td>\n      <td>138.339996</td>\n      <td>NaN</td>\n      <td>NaN</td>\n      <td>NaN</td>\n      <td>0</td>\n      <td>NaN</td>\n    </tr>\n    <tr>\n      <th>1</th>\n      <td>1983-01-04</td>\n      <td>138.330002</td>\n      <td>141.360001</td>\n      <td>138.080002</td>\n      <td>141.360001</td>\n      <td>NaN</td>\n      <td>NaN</td>\n      <td>NaN</td>\n      <td>0</td>\n      <td>100.000000</td>\n    </tr>\n    <tr>\n      <th>2</th>\n      <td>1983-01-05</td>\n      <td>141.350006</td>\n      <td>142.600006</td>\n      <td>141.149994</td>\n      <td>141.960007</td>\n      <td>NaN</td>\n      <td>NaN</td>\n      <td>NaN</td>\n      <td>0</td>\n      <td>100.000000</td>\n    </tr>\n    <tr>\n      <th>3</th>\n      <td>1983-01-06</td>\n      <td>142.009995</td>\n      <td>145.770004</td>\n      <td>142.009995</td>\n      <td>145.270004</td>\n      <td>NaN</td>\n      <td>NaN</td>\n      <td>NaN</td>\n      <td>0</td>\n      <td>100.000000</td>\n    </tr>\n    <tr>\n      <th>4</th>\n      <td>1983-01-07</td>\n      <td>145.270004</td>\n      <td>146.460007</td>\n      <td>145.149994</td>\n      <td>145.179993</td>\n      <td>NaN</td>\n      <td>NaN</td>\n      <td>NaN</td>\n      <td>0</td>\n      <td>98.325446</td>\n    </tr>\n    <tr>\n      <th>...</th>\n      <td>...</td>\n      <td>...</td>\n      <td>...</td>\n      <td>...</td>\n      <td>...</td>\n      <td>...</td>\n      <td>...</td>\n      <td>...</td>\n      <td>...</td>\n      <td>...</td>\n    </tr>\n    <tr>\n      <th>10379</th>\n      <td>2024-03-07</td>\n      <td>5132.379883</td>\n      <td>5165.620117</td>\n      <td>5128.209961</td>\n      <td>5157.359863</td>\n      <td>5054.556421</td>\n      <td>5139.477241</td>\n      <td>4969.635600</td>\n      <td>-1</td>\n      <td>69.023328</td>\n    </tr>\n    <tr>\n      <th>10380</th>\n      <td>2024-03-08</td>\n      <td>5164.459961</td>\n      <td>5189.259766</td>\n      <td>5117.500000</td>\n      <td>5123.689941</td>\n      <td>5060.845410</td>\n      <td>5146.281074</td>\n      <td>4975.409746</td>\n      <td>0</td>\n      <td>59.262559</td>\n    </tr>\n    <tr>\n      <th>10381</th>\n      <td>2024-03-11</td>\n      <td>5111.959961</td>\n      <td>5124.660156</td>\n      <td>5091.140137</td>\n      <td>5117.939941</td>\n      <td>5065.411914</td>\n      <td>5151.940529</td>\n      <td>4978.883299</td>\n      <td>0</td>\n      <td>57.655965</td>\n    </tr>\n    <tr>\n      <th>10382</th>\n      <td>2024-03-12</td>\n      <td>5134.299805</td>\n      <td>5179.870117</td>\n      <td>5114.479980</td>\n      <td>5175.270020</td>\n      <td>5073.083423</td>\n      <td>5165.273120</td>\n      <td>4980.893725</td>\n      <td>-1</td>\n      <td>67.722643</td>\n    </tr>\n    <tr>\n      <th>10383</th>\n      <td>2024-03-13</td>\n      <td>5173.490234</td>\n      <td>5179.140137</td>\n      <td>5151.879883</td>\n      <td>5165.310059</td>\n      <td>5083.690430</td>\n      <td>5170.782495</td>\n      <td>4996.598365</td>\n      <td>0</td>\n      <td>64.642066</td>\n    </tr>\n  </tbody>\n</table>\n<p>10384 rows × 10 columns</p>\n</div>"
     },
     "execution_count": 8,
     "metadata": {},
     "output_type": "execute_result"
    }
   ],
   "source": [
    "df"
   ],
   "metadata": {
    "collapsed": false,
    "ExecuteTime": {
     "end_time": "2024-03-14T12:34:34.077492Z",
     "start_time": "2024-03-14T12:34:34.010706Z"
    }
   },
   "id": "1f7813a066227ed7",
   "execution_count": 8
  },
  {
   "cell_type": "code",
   "outputs": [],
   "source": [
    "def plotgraph(start,finish,method,approach,str_dir_1,str_dir_2):\n",
    "    open = []\n",
    "    high = []\n",
    "    low = []\n",
    "    close = []\n",
    "    # Get the data from the dataframe\n",
    "    for x in range(finish - start):\n",
    "        open.append(float(df.iloc[start][1]))\n",
    "        high.append(float(df.iloc[start][2]))\n",
    "        low.append(float(df.iloc[start][3]))\n",
    "        close.append(float(df.iloc[start][4]))\n",
    "        start = start + 1\n",
    "    fig = plt.figure(num=1, figsize=(3, 3), dpi=50, facecolor='w', edgecolor='k')\n",
    "    dx = fig.add_subplot(111)\n",
    "    mpl_finance.candlestick2_ochl(dx, open, close, high, low, width=1.5, colorup='g', colordown='r', alpha=0.5)\n",
    "    plt.autoscale()\n",
    "    plt.axis('off')\n",
    "\n",
    "    # BB Approach\n",
    "    if approach == \"BB\":\n",
    "        # Save to separate directories\n",
    "        if method == \"BPS\":\n",
    "        # Buy & Sell\n",
    "            if df.bb_signal[finish] == 1:\n",
    "                plt.savefig(str_dir_1 + str(finish) + '.jpg', bbox_inches='tight') #buy\n",
    "            else:\n",
    "                plt.savefig(str_dir_2 + str(finish) + '.jpg', bbox_inches='tight') #sell\n",
    "        # Buy , [Hold + Sell]\n",
    "        elif method == \"BHPS\":\n",
    "            if df.bb_signal[finish] == 1:\n",
    "                plt.savefig(str_dir_1 + str(finish) + '.jpg', bbox_inches='tight') #buy\n",
    "            else:\n",
    "                plt.savefig(str_dir_2 + str(finish) + '.jpg', bbox_inches='tight') #sell + hold\n",
    "        #[Buy + Hold], Sell\n",
    "        else:\n",
    "            if df.bb_signal[finish] == -1:\n",
    "                plt.savefig(str_dir_2 + str(finish) + '.jpg', bbox_inches='tight') #sell\n",
    "            else:\n",
    "                plt.savefig(str_dir_1 + str(finish) + '.jpg', bbox_inches='tight') #buy + hold\n",
    "\n",
    "    # RSI Approach\n",
    "    else:\n",
    "        # Save to separate directories\n",
    "        if method == \"BPS\":\n",
    "            # Buy(<30) & Sell(>70)\n",
    "            if df.rsie[finish] < 30:\n",
    "                plt.savefig(str_dir_1 + str(finish) + '.jpg', bbox_inches='tight')  # buy\n",
    "            else:\n",
    "                plt.savefig(str_dir_2 + str(finish) + '.jpg', bbox_inches='tight')  # sell\n",
    "\n",
    "        # Buy(<30) , [Hold + Sell](>=30)\n",
    "        elif method == \"BHPS\":\n",
    "            if df.rsie[finish] < 30:\n",
    "                plt.savefig(str_dir_1 + str(finish) + '.jpg', bbox_inches='tight')  # buy\n",
    "            else:\n",
    "                plt.savefig(str_dir_2 + str(finish) + '.jpg', bbox_inches='tight')  # sell + hold\n",
    "\n",
    "        # [Buy + Hold](<=70), Sell(>70)\n",
    "        else:\n",
    "            if df.rsie[finish] >70:\n",
    "                plt.savefig(str_dir_2 + str(finish) + '.jpg', bbox_inches='tight')  # sell\n",
    "            else:\n",
    "                plt.savefig(str_dir_1 + str(finish) + '.jpg', bbox_inches='tight')  # buy + hold\n",
    "\n",
    "\n",
    "    open.clear()\n",
    "    high.clear()\n",
    "    low.clear()\n",
    "    close.clear()\n",
    "    plt.cla()\n",
    "    plt.clf()"
   ],
   "metadata": {
    "collapsed": false,
    "ExecuteTime": {
     "end_time": "2024-03-14T12:40:04.387477Z",
     "start_time": "2024-03-14T12:40:04.375337Z"
    }
   },
   "id": "fe230146e48a7359",
   "execution_count": 10
  },
  {
   "cell_type": "code",
   "outputs": [],
   "source": [
    "def plotgraph_hold(start,finish,method,approach,str_dir_1,str_dir_2, str_dir_3):\n",
    "    open = []\n",
    "    high = []\n",
    "    low = []\n",
    "    close = []\n",
    "    # Get the data from the dataframe\n",
    "    for x in range(finish - start):\n",
    "        open.append(float(df.iloc[start][1]))\n",
    "        high.append(float(df.iloc[start][2]))\n",
    "        low.append(float(df.iloc[start][3]))\n",
    "        close.append(float(df.iloc[start][4]))\n",
    "        start = start + 1\n",
    "    fig = plt.figure(num=1, figsize=(3, 3), dpi=50, facecolor='w', edgecolor='k')\n",
    "    dx = fig.add_subplot(111)\n",
    "    mpl_finance.candlestick2_ochl(dx, open, close, high, low, width=1.5, colorup='g', colordown='r', alpha=0.5)\n",
    "    plt.autoscale()\n",
    "    plt.axis('off')\n",
    "\n",
    "    # BB Approach\n",
    "    if approach == \"BB\":\n",
    "        # Save to separate directories\n",
    "        if method == \"BPS\":\n",
    "        # Buy & Sell\n",
    "            if df.bb_signal[finish] == 1:\n",
    "                plt.savefig(str_dir_1 + str(finish) + '.jpg', bbox_inches='tight') #buy\n",
    "            elif df.bb_signal[finish] == 0:\n",
    "                plt.savefig(str_dir_3 + str(finish) + '.jpg', bbox_inches='tight') # hold\n",
    "            else:\n",
    "                plt.savefig(str_dir_2 + str(finish) + '.jpg', bbox_inches='tight') #sell\n",
    "        # Buy , [Hold + Sell]\n",
    "        elif method == \"BHPS\":\n",
    "            if df.bb_signal[finish] == 1:\n",
    "                plt.savefig(str_dir_1 + str(finish) + '.jpg', bbox_inches='tight') #buy\n",
    "            else:\n",
    "                plt.savefig(str_dir_2 + str(finish) + '.jpg', bbox_inches='tight') #sell + hold\n",
    "        #[Buy + Hold], Sell\n",
    "        else:\n",
    "            if df.bb_signal[finish] == -1:\n",
    "                plt.savefig(str_dir_2 + str(finish) + '.jpg', bbox_inches='tight') #sell\n",
    "            else:\n",
    "                plt.savefig(str_dir_1 + str(finish) + '.jpg', bbox_inches='tight') #buy + hold\n",
    "\n",
    "    # RSI Approach\n",
    "    else:\n",
    "        # Save to separate directories\n",
    "        if method == \"BPS\":\n",
    "            # Buy(<30) & Sell(>70)\n",
    "            if df.rsie[finish] < 30:\n",
    "                plt.savefig(str_dir_1 + str(finish) + '.jpg', bbox_inches='tight')  # buy\n",
    "            else:\n",
    "                plt.savefig(str_dir_2 + str(finish) + '.jpg', bbox_inches='tight')  # sell\n",
    "\n",
    "        # Buy(<30) , [Hold + Sell](>=30)\n",
    "        elif method == \"BHPS\":\n",
    "            if df.rsie[finish] < 30:\n",
    "                plt.savefig(str_dir_1 + str(finish) + '.jpg', bbox_inches='tight')  # buy\n",
    "            else:\n",
    "                plt.savefig(str_dir_2 + str(finish) + '.jpg', bbox_inches='tight')  # sell + hold\n",
    "\n",
    "        # [Buy + Hold](<=70), Sell(>70)\n",
    "        else:\n",
    "            if df.rsie[finish] >70:\n",
    "                plt.savefig(str_dir_2 + str(finish) + '.jpg', bbox_inches='tight')  # sell\n",
    "            else:\n",
    "                plt.savefig(str_dir_1 + str(finish) + '.jpg', bbox_inches='tight')  # buy + hold\n",
    "\n",
    "\n",
    "    open.clear()\n",
    "    high.clear()\n",
    "    low.clear()\n",
    "    close.clear()\n",
    "    plt.cla()\n",
    "    plt.clf()"
   ],
   "metadata": {
    "collapsed": false,
    "ExecuteTime": {
     "end_time": "2024-03-14T12:39:12.261577Z",
     "start_time": "2024-03-14T12:39:12.242331Z"
    }
   },
   "id": "fae6cf2b2130cf91",
   "execution_count": 9
  },
  {
   "cell_type": "code",
   "outputs": [
    {
     "data": {
      "text/plain": "<Figure size 150x150 with 0 Axes>"
     },
     "metadata": {},
     "output_type": "display_data"
    }
   ],
   "source": [
    "for i in approach:\n",
    "    # BB Approach\n",
    "    if i == \"BB\":\n",
    "        # Loop for all the methods\n",
    "        for j in methods:\n",
    "            # Buy & Sell\n",
    "            if j == \"BPS\":\n",
    "                str_dir_1 = \"./stockpred/bb/str1/train/buy/\"\n",
    "                str_dir_2 = \"./stockpred/bb/str1/train/sell/\"\n",
    "                str_dir_3 = \"./stockpred/bb/str1/train/hold/\"\n",
    "                for k in range(20,len(df.bb_signal)):\n",
    "                    # plotgraph(start, finish, method,approach,str_dir_1, str_dir_2):\n",
    "                    plotgraph_hold(k - 20, k,j,i,str_dir_1, str_dir_2, str_dir_3)\n",
    "            # Buy and [Hold + Sell]\n",
    "            elif j == \"BHPS\":\n",
    "                str_dir_1 = \"./stockpred/bb/str2/train/buy/\"\n",
    "                str_dir_2 = \"./stockpred/bb/str2/train/hold_sell/\"\n",
    "                for k in range(20, len(df.bb_signal)):\n",
    "                    plotgraph(k - 20, k,j,i,str_dir_1, str_dir_2)\n",
    "            # [Buy + Hold], Sell\n",
    "            else:\n",
    "                str_dir_1 = \"./stockpred/bb/str3/train/buy_hold/\"\n",
    "                str_dir_2 = \"./stockpred/bb/str3/train/sell/\"\n",
    "                for k in range(20, len(df.bb_signal)):\n",
    "                    plotgraph(k - 20, k,j,i,str_dir_1, str_dir_2)"
   ],
   "metadata": {
    "collapsed": false,
    "ExecuteTime": {
     "end_time": "2024-03-14T13:05:20.209183Z",
     "start_time": "2024-03-14T12:43:14.027831Z"
    }
   },
   "id": "dedf1683b29edbe5",
   "execution_count": 12
  },
  {
   "cell_type": "code",
   "outputs": [
    {
     "ename": "KeyboardInterrupt",
     "evalue": "",
     "output_type": "error",
     "traceback": [
      "\u001B[0;31m---------------------------------------------------------------------------\u001B[0m",
      "\u001B[0;31mKeyboardInterrupt\u001B[0m                         Traceback (most recent call last)",
      "Cell \u001B[0;32mIn[11], line 14\u001B[0m\n\u001B[1;32m     11\u001B[0m     \u001B[38;5;28;01mfor\u001B[39;00m k \u001B[38;5;129;01min\u001B[39;00m \u001B[38;5;28mrange\u001B[39m(\u001B[38;5;241m20\u001B[39m,\u001B[38;5;28mlen\u001B[39m(df\u001B[38;5;241m.\u001B[39mbb_signal)):\n\u001B[1;32m     12\u001B[0m         \u001B[38;5;28;01mif\u001B[39;00m df\u001B[38;5;241m.\u001B[39mbb_signal[k] \u001B[38;5;241m!=\u001B[39m \u001B[38;5;241m0\u001B[39m:\n\u001B[1;32m     13\u001B[0m             \u001B[38;5;66;03m# plotgraph(start, finish, method,approach,str_dir_1, str_dir_2):\u001B[39;00m\n\u001B[0;32m---> 14\u001B[0m             \u001B[43mplotgraph_hold\u001B[49m\u001B[43m(\u001B[49m\u001B[43mk\u001B[49m\u001B[43m \u001B[49m\u001B[38;5;241;43m-\u001B[39;49m\u001B[43m \u001B[49m\u001B[38;5;241;43m20\u001B[39;49m\u001B[43m,\u001B[49m\u001B[43m \u001B[49m\u001B[43mk\u001B[49m\u001B[43m,\u001B[49m\u001B[43mj\u001B[49m\u001B[43m,\u001B[49m\u001B[43mi\u001B[49m\u001B[43m,\u001B[49m\u001B[43mstr_dir_1\u001B[49m\u001B[43m,\u001B[49m\u001B[43m \u001B[49m\u001B[43mstr_dir_2\u001B[49m\u001B[43m,\u001B[49m\u001B[43m \u001B[49m\u001B[43mstr_dir_3\u001B[49m\u001B[43m)\u001B[49m\n\u001B[1;32m     15\u001B[0m \u001B[38;5;66;03m# Buy and [Hold + Sell]\u001B[39;00m\n\u001B[1;32m     16\u001B[0m \u001B[38;5;28;01melif\u001B[39;00m j \u001B[38;5;241m==\u001B[39m \u001B[38;5;124m\"\u001B[39m\u001B[38;5;124mBHPS\u001B[39m\u001B[38;5;124m\"\u001B[39m:\n",
      "Cell \u001B[0;32mIn[9], line 72\u001B[0m, in \u001B[0;36mplotgraph_hold\u001B[0;34m(start, finish, method, approach, str_dir_1, str_dir_2, str_dir_3)\u001B[0m\n\u001B[1;32m     70\u001B[0m low\u001B[38;5;241m.\u001B[39mclear()\n\u001B[1;32m     71\u001B[0m close\u001B[38;5;241m.\u001B[39mclear()\n\u001B[0;32m---> 72\u001B[0m \u001B[43mplt\u001B[49m\u001B[38;5;241;43m.\u001B[39;49m\u001B[43mcla\u001B[49m\u001B[43m(\u001B[49m\u001B[43m)\u001B[49m\n\u001B[1;32m     73\u001B[0m plt\u001B[38;5;241m.\u001B[39mclf()\n",
      "File \u001B[0;32m/opt/anaconda3/envs/FinancialMachineLearning/lib/python3.10/site-packages/matplotlib/pyplot.py:1149\u001B[0m, in \u001B[0;36mcla\u001B[0;34m()\u001B[0m\n\u001B[1;32m   1147\u001B[0m \u001B[38;5;250m\u001B[39m\u001B[38;5;124;03m\"\"\"Clear the current axes.\"\"\"\u001B[39;00m\n\u001B[1;32m   1148\u001B[0m \u001B[38;5;66;03m# Not generated via boilerplate.py to allow a different docstring.\u001B[39;00m\n\u001B[0;32m-> 1149\u001B[0m \u001B[38;5;28;01mreturn\u001B[39;00m \u001B[43mgca\u001B[49m\u001B[43m(\u001B[49m\u001B[43m)\u001B[49m\u001B[38;5;241;43m.\u001B[39;49m\u001B[43mcla\u001B[49m\u001B[43m(\u001B[49m\u001B[43m)\u001B[49m\n",
      "File \u001B[0;32m/opt/anaconda3/envs/FinancialMachineLearning/lib/python3.10/site-packages/matplotlib/axes/_base.py:1404\u001B[0m, in \u001B[0;36m_AxesBase.cla\u001B[0;34m(self)\u001B[0m\n\u001B[1;32m   1402\u001B[0m     \u001B[38;5;28mself\u001B[39m\u001B[38;5;241m.\u001B[39m__clear()\n\u001B[1;32m   1403\u001B[0m \u001B[38;5;28;01melse\u001B[39;00m:\n\u001B[0;32m-> 1404\u001B[0m     \u001B[38;5;28;43mself\u001B[39;49m\u001B[38;5;241;43m.\u001B[39;49m\u001B[43mclear\u001B[49m\u001B[43m(\u001B[49m\u001B[43m)\u001B[49m\n",
      "File \u001B[0;32m/opt/anaconda3/envs/FinancialMachineLearning/lib/python3.10/site-packages/matplotlib/axes/_base.py:1395\u001B[0m, in \u001B[0;36m_AxesBase.clear\u001B[0;34m(self)\u001B[0m\n\u001B[1;32m   1393\u001B[0m     \u001B[38;5;28mself\u001B[39m\u001B[38;5;241m.\u001B[39mcla()\n\u001B[1;32m   1394\u001B[0m \u001B[38;5;28;01melse\u001B[39;00m:\n\u001B[0;32m-> 1395\u001B[0m     \u001B[38;5;28;43mself\u001B[39;49m\u001B[38;5;241;43m.\u001B[39;49m\u001B[43m__clear\u001B[49m\u001B[43m(\u001B[49m\u001B[43m)\u001B[49m\n",
      "File \u001B[0;32m/opt/anaconda3/envs/FinancialMachineLearning/lib/python3.10/site-packages/matplotlib/axes/_base.py:1279\u001B[0m, in \u001B[0;36m_AxesBase.__clear\u001B[0;34m(self)\u001B[0m\n\u001B[1;32m   1276\u001B[0m yaxis_visible \u001B[38;5;241m=\u001B[39m \u001B[38;5;28mself\u001B[39m\u001B[38;5;241m.\u001B[39myaxis\u001B[38;5;241m.\u001B[39mget_visible()\n\u001B[1;32m   1278\u001B[0m \u001B[38;5;28;01mfor\u001B[39;00m axis \u001B[38;5;129;01min\u001B[39;00m \u001B[38;5;28mself\u001B[39m\u001B[38;5;241m.\u001B[39m_axis_map\u001B[38;5;241m.\u001B[39mvalues():\n\u001B[0;32m-> 1279\u001B[0m     \u001B[43maxis\u001B[49m\u001B[38;5;241;43m.\u001B[39;49m\u001B[43mclear\u001B[49m\u001B[43m(\u001B[49m\u001B[43m)\u001B[49m  \u001B[38;5;66;03m# Also resets the scale to linear.\u001B[39;00m\n\u001B[1;32m   1280\u001B[0m \u001B[38;5;28;01mfor\u001B[39;00m spine \u001B[38;5;129;01min\u001B[39;00m \u001B[38;5;28mself\u001B[39m\u001B[38;5;241m.\u001B[39mspines\u001B[38;5;241m.\u001B[39mvalues():\n\u001B[1;32m   1281\u001B[0m     spine\u001B[38;5;241m.\u001B[39mclear()\n",
      "File \u001B[0;32m/opt/anaconda3/envs/FinancialMachineLearning/lib/python3.10/site-packages/matplotlib/axis.py:891\u001B[0m, in \u001B[0;36mAxis.clear\u001B[0;34m(self)\u001B[0m\n\u001B[1;32m    885\u001B[0m \u001B[38;5;28mself\u001B[39m\u001B[38;5;241m.\u001B[39m_major_tick_kw[\u001B[38;5;124m'\u001B[39m\u001B[38;5;124mgridOn\u001B[39m\u001B[38;5;124m'\u001B[39m] \u001B[38;5;241m=\u001B[39m (\n\u001B[1;32m    886\u001B[0m         mpl\u001B[38;5;241m.\u001B[39mrcParams[\u001B[38;5;124m'\u001B[39m\u001B[38;5;124maxes.grid\u001B[39m\u001B[38;5;124m'\u001B[39m] \u001B[38;5;129;01mand\u001B[39;00m\n\u001B[1;32m    887\u001B[0m         mpl\u001B[38;5;241m.\u001B[39mrcParams[\u001B[38;5;124m'\u001B[39m\u001B[38;5;124maxes.grid.which\u001B[39m\u001B[38;5;124m'\u001B[39m] \u001B[38;5;129;01min\u001B[39;00m (\u001B[38;5;124m'\u001B[39m\u001B[38;5;124mboth\u001B[39m\u001B[38;5;124m'\u001B[39m, \u001B[38;5;124m'\u001B[39m\u001B[38;5;124mmajor\u001B[39m\u001B[38;5;124m'\u001B[39m))\n\u001B[1;32m    888\u001B[0m \u001B[38;5;28mself\u001B[39m\u001B[38;5;241m.\u001B[39m_minor_tick_kw[\u001B[38;5;124m'\u001B[39m\u001B[38;5;124mgridOn\u001B[39m\u001B[38;5;124m'\u001B[39m] \u001B[38;5;241m=\u001B[39m (\n\u001B[1;32m    889\u001B[0m         mpl\u001B[38;5;241m.\u001B[39mrcParams[\u001B[38;5;124m'\u001B[39m\u001B[38;5;124maxes.grid\u001B[39m\u001B[38;5;124m'\u001B[39m] \u001B[38;5;129;01mand\u001B[39;00m\n\u001B[1;32m    890\u001B[0m         mpl\u001B[38;5;241m.\u001B[39mrcParams[\u001B[38;5;124m'\u001B[39m\u001B[38;5;124maxes.grid.which\u001B[39m\u001B[38;5;124m'\u001B[39m] \u001B[38;5;129;01min\u001B[39;00m (\u001B[38;5;124m'\u001B[39m\u001B[38;5;124mboth\u001B[39m\u001B[38;5;124m'\u001B[39m, \u001B[38;5;124m'\u001B[39m\u001B[38;5;124mminor\u001B[39m\u001B[38;5;124m'\u001B[39m))\n\u001B[0;32m--> 891\u001B[0m \u001B[38;5;28;43mself\u001B[39;49m\u001B[38;5;241;43m.\u001B[39;49m\u001B[43mreset_ticks\u001B[49m\u001B[43m(\u001B[49m\u001B[43m)\u001B[49m\n\u001B[1;32m    893\u001B[0m \u001B[38;5;28mself\u001B[39m\u001B[38;5;241m.\u001B[39mconverter \u001B[38;5;241m=\u001B[39m \u001B[38;5;28;01mNone\u001B[39;00m\n\u001B[1;32m    894\u001B[0m \u001B[38;5;28mself\u001B[39m\u001B[38;5;241m.\u001B[39munits \u001B[38;5;241m=\u001B[39m \u001B[38;5;28;01mNone\u001B[39;00m\n",
      "File \u001B[0;32m/opt/anaconda3/envs/FinancialMachineLearning/lib/python3.10/site-packages/matplotlib/axis.py:914\u001B[0m, in \u001B[0;36mAxis.reset_ticks\u001B[0;34m(self)\u001B[0m\n\u001B[1;32m    912\u001B[0m     \u001B[38;5;28;01mpass\u001B[39;00m\n\u001B[1;32m    913\u001B[0m \u001B[38;5;28;01mtry\u001B[39;00m:\n\u001B[0;32m--> 914\u001B[0m     \u001B[38;5;28;43mself\u001B[39;49m\u001B[38;5;241;43m.\u001B[39;49m\u001B[43mset_clip_path\u001B[49m\u001B[43m(\u001B[49m\u001B[38;5;28;43mself\u001B[39;49m\u001B[38;5;241;43m.\u001B[39;49m\u001B[43maxes\u001B[49m\u001B[38;5;241;43m.\u001B[39;49m\u001B[43mpatch\u001B[49m\u001B[43m)\u001B[49m\n\u001B[1;32m    915\u001B[0m \u001B[38;5;28;01mexcept\u001B[39;00m \u001B[38;5;167;01mAttributeError\u001B[39;00m:\n\u001B[1;32m    916\u001B[0m     \u001B[38;5;28;01mpass\u001B[39;00m\n",
      "File \u001B[0;32m/opt/anaconda3/envs/FinancialMachineLearning/lib/python3.10/site-packages/matplotlib/axis.py:1085\u001B[0m, in \u001B[0;36mAxis.set_clip_path\u001B[0;34m(self, clippath, transform)\u001B[0m\n\u001B[1;32m   1083\u001B[0m \u001B[38;5;28msuper\u001B[39m()\u001B[38;5;241m.\u001B[39mset_clip_path(clippath, transform)\n\u001B[1;32m   1084\u001B[0m \u001B[38;5;28;01mfor\u001B[39;00m child \u001B[38;5;129;01min\u001B[39;00m \u001B[38;5;28mself\u001B[39m\u001B[38;5;241m.\u001B[39mmajorTicks \u001B[38;5;241m+\u001B[39m \u001B[38;5;28mself\u001B[39m\u001B[38;5;241m.\u001B[39mminorTicks:\n\u001B[0;32m-> 1085\u001B[0m     \u001B[43mchild\u001B[49m\u001B[38;5;241;43m.\u001B[39;49m\u001B[43mset_clip_path\u001B[49m\u001B[43m(\u001B[49m\u001B[43mclippath\u001B[49m\u001B[43m,\u001B[49m\u001B[43m \u001B[49m\u001B[43mtransform\u001B[49m\u001B[43m)\u001B[49m\n\u001B[1;32m   1086\u001B[0m \u001B[38;5;28mself\u001B[39m\u001B[38;5;241m.\u001B[39mstale \u001B[38;5;241m=\u001B[39m \u001B[38;5;28;01mTrue\u001B[39;00m\n",
      "File \u001B[0;32m/opt/anaconda3/envs/FinancialMachineLearning/lib/python3.10/site-packages/matplotlib/axis.py:240\u001B[0m, in \u001B[0;36mTick.set_clip_path\u001B[0;34m(self, clippath, transform)\u001B[0m\n\u001B[1;32m    237\u001B[0m \u001B[38;5;28;01mdef\u001B[39;00m \u001B[38;5;21mset_clip_path\u001B[39m(\u001B[38;5;28mself\u001B[39m, clippath, transform\u001B[38;5;241m=\u001B[39m\u001B[38;5;28;01mNone\u001B[39;00m):\n\u001B[1;32m    238\u001B[0m     \u001B[38;5;66;03m# docstring inherited\u001B[39;00m\n\u001B[1;32m    239\u001B[0m     \u001B[38;5;28msuper\u001B[39m()\u001B[38;5;241m.\u001B[39mset_clip_path(clippath, transform)\n\u001B[0;32m--> 240\u001B[0m     \u001B[38;5;28;43mself\u001B[39;49m\u001B[38;5;241;43m.\u001B[39;49m\u001B[43mgridline\u001B[49m\u001B[38;5;241;43m.\u001B[39;49m\u001B[43mset_clip_path\u001B[49m\u001B[43m(\u001B[49m\u001B[43mclippath\u001B[49m\u001B[43m,\u001B[49m\u001B[43m \u001B[49m\u001B[43mtransform\u001B[49m\u001B[43m)\u001B[49m\n\u001B[1;32m    241\u001B[0m     \u001B[38;5;28mself\u001B[39m\u001B[38;5;241m.\u001B[39mstale \u001B[38;5;241m=\u001B[39m \u001B[38;5;28;01mTrue\u001B[39;00m\n",
      "File \u001B[0;32m/opt/anaconda3/envs/FinancialMachineLearning/lib/python3.10/site-packages/matplotlib/artist.py:809\u001B[0m, in \u001B[0;36mArtist.set_clip_path\u001B[0;34m(self, path, transform)\u001B[0m\n\u001B[1;32m    806\u001B[0m \u001B[38;5;28;01mif\u001B[39;00m transform \u001B[38;5;129;01mis\u001B[39;00m \u001B[38;5;28;01mNone\u001B[39;00m:\n\u001B[1;32m    807\u001B[0m     \u001B[38;5;28;01mif\u001B[39;00m \u001B[38;5;28misinstance\u001B[39m(path, Rectangle):\n\u001B[1;32m    808\u001B[0m         \u001B[38;5;28mself\u001B[39m\u001B[38;5;241m.\u001B[39mclipbox \u001B[38;5;241m=\u001B[39m TransformedBbox(Bbox\u001B[38;5;241m.\u001B[39munit(),\n\u001B[0;32m--> 809\u001B[0m                                        \u001B[43mpath\u001B[49m\u001B[38;5;241;43m.\u001B[39;49m\u001B[43mget_transform\u001B[49m\u001B[43m(\u001B[49m\u001B[43m)\u001B[49m)\n\u001B[1;32m    810\u001B[0m         \u001B[38;5;28mself\u001B[39m\u001B[38;5;241m.\u001B[39m_clippath \u001B[38;5;241m=\u001B[39m \u001B[38;5;28;01mNone\u001B[39;00m\n\u001B[1;32m    811\u001B[0m         success \u001B[38;5;241m=\u001B[39m \u001B[38;5;28;01mTrue\u001B[39;00m\n",
      "File \u001B[0;32m/opt/anaconda3/envs/FinancialMachineLearning/lib/python3.10/site-packages/matplotlib/patches.py:264\u001B[0m, in \u001B[0;36mPatch.get_transform\u001B[0;34m(self)\u001B[0m\n\u001B[1;32m    262\u001B[0m \u001B[38;5;28;01mdef\u001B[39;00m \u001B[38;5;21mget_transform\u001B[39m(\u001B[38;5;28mself\u001B[39m):\n\u001B[1;32m    263\u001B[0m \u001B[38;5;250m    \u001B[39m\u001B[38;5;124;03m\"\"\"Return the `~.transforms.Transform` applied to the `Patch`.\"\"\"\u001B[39;00m\n\u001B[0;32m--> 264\u001B[0m     \u001B[38;5;28;01mreturn\u001B[39;00m \u001B[38;5;28;43mself\u001B[39;49m\u001B[38;5;241;43m.\u001B[39;49m\u001B[43mget_patch_transform\u001B[49m\u001B[43m(\u001B[49m\u001B[43m)\u001B[49m \u001B[38;5;241m+\u001B[39m artist\u001B[38;5;241m.\u001B[39mArtist\u001B[38;5;241m.\u001B[39mget_transform(\u001B[38;5;28mself\u001B[39m)\n",
      "File \u001B[0;32m/opt/anaconda3/envs/FinancialMachineLearning/lib/python3.10/site-packages/matplotlib/patches.py:747\u001B[0m, in \u001B[0;36mRectangle.get_patch_transform\u001B[0;34m(self)\u001B[0m\n\u001B[1;32m    742\u001B[0m \u001B[38;5;28;01mdef\u001B[39;00m \u001B[38;5;21mget_patch_transform\u001B[39m(\u001B[38;5;28mself\u001B[39m):\n\u001B[1;32m    743\u001B[0m     \u001B[38;5;66;03m# Note: This cannot be called until after this has been added to\u001B[39;00m\n\u001B[1;32m    744\u001B[0m     \u001B[38;5;66;03m# an Axes, otherwise unit conversion will fail. This makes it very\u001B[39;00m\n\u001B[1;32m    745\u001B[0m     \u001B[38;5;66;03m# important to call the accessor method and not directly access the\u001B[39;00m\n\u001B[1;32m    746\u001B[0m     \u001B[38;5;66;03m# transformation member variable.\u001B[39;00m\n\u001B[0;32m--> 747\u001B[0m     bbox \u001B[38;5;241m=\u001B[39m \u001B[38;5;28;43mself\u001B[39;49m\u001B[38;5;241;43m.\u001B[39;49m\u001B[43mget_bbox\u001B[49m\u001B[43m(\u001B[49m\u001B[43m)\u001B[49m\n\u001B[1;32m    748\u001B[0m     \u001B[38;5;28;01mif\u001B[39;00m \u001B[38;5;28mself\u001B[39m\u001B[38;5;241m.\u001B[39mrotation_point \u001B[38;5;241m==\u001B[39m \u001B[38;5;124m'\u001B[39m\u001B[38;5;124mcenter\u001B[39m\u001B[38;5;124m'\u001B[39m:\n\u001B[1;32m    749\u001B[0m         width, height \u001B[38;5;241m=\u001B[39m bbox\u001B[38;5;241m.\u001B[39mx1 \u001B[38;5;241m-\u001B[39m bbox\u001B[38;5;241m.\u001B[39mx0, bbox\u001B[38;5;241m.\u001B[39my1 \u001B[38;5;241m-\u001B[39m bbox\u001B[38;5;241m.\u001B[39my0\n",
      "File \u001B[0;32m/opt/anaconda3/envs/FinancialMachineLearning/lib/python3.10/site-packages/matplotlib/patches.py:879\u001B[0m, in \u001B[0;36mRectangle.get_bbox\u001B[0;34m(self)\u001B[0m\n\u001B[1;32m    877\u001B[0m \u001B[38;5;250m\u001B[39m\u001B[38;5;124;03m\"\"\"Return the `.Bbox`.\"\"\"\u001B[39;00m\n\u001B[1;32m    878\u001B[0m x0, y0, x1, y1 \u001B[38;5;241m=\u001B[39m \u001B[38;5;28mself\u001B[39m\u001B[38;5;241m.\u001B[39m_convert_units()\n\u001B[0;32m--> 879\u001B[0m \u001B[38;5;28;01mreturn\u001B[39;00m \u001B[43mtransforms\u001B[49m\u001B[38;5;241;43m.\u001B[39;49m\u001B[43mBbox\u001B[49m\u001B[38;5;241;43m.\u001B[39;49m\u001B[43mfrom_extents\u001B[49m\u001B[43m(\u001B[49m\u001B[43mx0\u001B[49m\u001B[43m,\u001B[49m\u001B[43m \u001B[49m\u001B[43my0\u001B[49m\u001B[43m,\u001B[49m\u001B[43m \u001B[49m\u001B[43mx1\u001B[49m\u001B[43m,\u001B[49m\u001B[43m \u001B[49m\u001B[43my1\u001B[49m\u001B[43m)\u001B[49m\n",
      "File \u001B[0;32m/opt/anaconda3/envs/FinancialMachineLearning/lib/python3.10/site-packages/matplotlib/transforms.py:826\u001B[0m, in \u001B[0;36mBbox.from_extents\u001B[0;34m(minpos, *args)\u001B[0m\n\u001B[1;32m    809\u001B[0m \u001B[38;5;129m@staticmethod\u001B[39m\n\u001B[1;32m    810\u001B[0m \u001B[38;5;28;01mdef\u001B[39;00m \u001B[38;5;21mfrom_extents\u001B[39m(\u001B[38;5;241m*\u001B[39margs, minpos\u001B[38;5;241m=\u001B[39m\u001B[38;5;28;01mNone\u001B[39;00m):\n\u001B[1;32m    811\u001B[0m \u001B[38;5;250m    \u001B[39m\u001B[38;5;124;03m\"\"\"\u001B[39;00m\n\u001B[1;32m    812\u001B[0m \u001B[38;5;124;03m    Create a new Bbox from *left*, *bottom*, *right* and *top*.\u001B[39;00m\n\u001B[1;32m    813\u001B[0m \n\u001B[0;32m   (...)\u001B[0m\n\u001B[1;32m    824\u001B[0m \u001B[38;5;124;03m       scales where negative bounds result in floating point errors.\u001B[39;00m\n\u001B[1;32m    825\u001B[0m \u001B[38;5;124;03m    \"\"\"\u001B[39;00m\n\u001B[0;32m--> 826\u001B[0m     bbox \u001B[38;5;241m=\u001B[39m \u001B[43mBbox\u001B[49m\u001B[43m(\u001B[49m\u001B[43mnp\u001B[49m\u001B[38;5;241;43m.\u001B[39;49m\u001B[43mreshape\u001B[49m\u001B[43m(\u001B[49m\u001B[43margs\u001B[49m\u001B[43m,\u001B[49m\u001B[43m \u001B[49m\u001B[43m(\u001B[49m\u001B[38;5;241;43m2\u001B[39;49m\u001B[43m,\u001B[49m\u001B[43m \u001B[49m\u001B[38;5;241;43m2\u001B[39;49m\u001B[43m)\u001B[49m\u001B[43m)\u001B[49m\u001B[43m)\u001B[49m\n\u001B[1;32m    827\u001B[0m     \u001B[38;5;28;01mif\u001B[39;00m minpos \u001B[38;5;129;01mis\u001B[39;00m \u001B[38;5;129;01mnot\u001B[39;00m \u001B[38;5;28;01mNone\u001B[39;00m:\n\u001B[1;32m    828\u001B[0m         bbox\u001B[38;5;241m.\u001B[39m_minpos[:] \u001B[38;5;241m=\u001B[39m minpos\n",
      "File \u001B[0;32m/opt/anaconda3/envs/FinancialMachineLearning/lib/python3.10/site-packages/matplotlib/transforms.py:767\u001B[0m, in \u001B[0;36mBbox.__init__\u001B[0;34m(self, points, **kwargs)\u001B[0m\n\u001B[1;32m    764\u001B[0m     \u001B[38;5;28;01mraise\u001B[39;00m \u001B[38;5;167;01mValueError\u001B[39;00m(\u001B[38;5;124m'\u001B[39m\u001B[38;5;124mBbox points must be of the form \u001B[39m\u001B[38;5;124m'\u001B[39m\n\u001B[1;32m    765\u001B[0m                      \u001B[38;5;124m'\u001B[39m\u001B[38;5;124m\"\u001B[39m\u001B[38;5;124m[[x0, y0], [x1, y1]]\u001B[39m\u001B[38;5;124m\"\u001B[39m\u001B[38;5;124m.\u001B[39m\u001B[38;5;124m'\u001B[39m)\n\u001B[1;32m    766\u001B[0m \u001B[38;5;28mself\u001B[39m\u001B[38;5;241m.\u001B[39m_points \u001B[38;5;241m=\u001B[39m points\n\u001B[0;32m--> 767\u001B[0m \u001B[38;5;28mself\u001B[39m\u001B[38;5;241m.\u001B[39m_minpos \u001B[38;5;241m=\u001B[39m \u001B[43mnp\u001B[49m\u001B[38;5;241;43m.\u001B[39;49m\u001B[43marray\u001B[49m\u001B[43m(\u001B[49m\u001B[43m[\u001B[49m\u001B[43mnp\u001B[49m\u001B[38;5;241;43m.\u001B[39;49m\u001B[43minf\u001B[49m\u001B[43m,\u001B[49m\u001B[43m \u001B[49m\u001B[43mnp\u001B[49m\u001B[38;5;241;43m.\u001B[39;49m\u001B[43minf\u001B[49m\u001B[43m]\u001B[49m\u001B[43m)\u001B[49m\n\u001B[1;32m    768\u001B[0m \u001B[38;5;28mself\u001B[39m\u001B[38;5;241m.\u001B[39m_ignore \u001B[38;5;241m=\u001B[39m \u001B[38;5;28;01mTrue\u001B[39;00m\n\u001B[1;32m    769\u001B[0m \u001B[38;5;66;03m# it is helpful in some contexts to know if the bbox is a\u001B[39;00m\n\u001B[1;32m    770\u001B[0m \u001B[38;5;66;03m# default or has been mutated; we store the orig points to\u001B[39;00m\n\u001B[1;32m    771\u001B[0m \u001B[38;5;66;03m# support the mutated methods\u001B[39;00m\n",
      "\u001B[0;31mKeyboardInterrupt\u001B[0m: "
     ]
    },
    {
     "data": {
      "text/plain": "<Figure size 150x150 with 1 Axes>",
      "image/png": "[encoded data removed]"
     },
     "metadata": {},
     "output_type": "display_data"
    }
   ],
   "source": [
    "for i in approach:\n",
    "    # BB Approach\n",
    "    if i == \"BB\":\n",
    "        # Loop for all the methods\n",
    "        for j in methods:\n",
    "            # Buy & Sell\n",
    "            if j == \"BPS\":\n",
    "                str_dir_1 = \"./stockpred/bb/str1/train/buy/\"\n",
    "                str_dir_2 = \"./stockpred/bb/str1/train/sell/\"\n",
    "                \n",
    "                for k in range(20,len(df.bb_signal)):\n",
    "                    if df.bb_signal[k] != 0:\n",
    "                        # plotgraph(start, finish, method,approach,str_dir_1, str_dir_2):\n",
    "                        plotgraph_hold(k - 20, k,j,i,str_dir_1, str_dir_2, str_dir_3)\n",
    "            # Buy and [Hold + Sell]\n",
    "            elif j == \"BHPS\":\n",
    "                str_dir_1 = \"./stockpred/bb/str2/train/buy/\"\n",
    "                str_dir_2 = \"./stockpred/bb/str2/train/hold_sell/\"\n",
    "                for k in range(20, len(df.bb_signal)):\n",
    "                    plotgraph(k - 20, k,j,i,str_dir_1, str_dir_2)\n",
    "            # [Buy + Hold], Sell\n",
    "            else:\n",
    "                str_dir_1 = \"./stockpred/bb/str3/train/buy_hold/\"\n",
    "                str_dir_2 = \"./stockpred/bb/str3/train/sell/\"\n",
    "                for k in range(20, len(df.bb_signal)):\n",
    "                    plotgraph(k - 20, k,j,i,str_dir_1, str_dir_2)\n",
    "    # RSI Approach\n",
    "    else:\n",
    "        # Loop for all the methods\n",
    "        for j in methods:\n",
    "            # Buy & Sell\n",
    "            if j == \"BPS\":\n",
    "                str_dir_1 = \"./stockpred/rsi/str1/train/buy/\"\n",
    "                str_dir_2 = \"./stockpred/rsi/str1/train/sell/\"\n",
    "                for k in range(14,len(df.rsie)):\n",
    "                    if ((df.rsie[k] < 30) | (df.rsie[k] >70)):\n",
    "                        plotgraph(k-14,k,j,i,str_dir_1, str_dir_2)\n",
    "            # Buy and [Hold + Sell]\n",
    "            elif j == \"BHPS\":\n",
    "                str_dir_1 = \"./stockpred/rsi/str2/train/buy/\"\n",
    "                str_dir_2 = \"./stockpred/rsi/str2/train/hold_sell/\"\n",
    "                for k in range(14,len(df.rsie)):\n",
    "                    plotgraph(k-14,k,j,i,str_dir_1, str_dir_2)\n",
    "            # [Buy + Hold], Sell\n",
    "            else:\n",
    "                str_dir_1 = \"./stockpred/rsi/str3/train/buy_hold/\"\n",
    "                str_dir_2 = \"./stockpred/rsi/str3/train/sell/\"\n",
    "                for k in range(14,len(df.rsie)):\n",
    "                    plotgraph(k-14,k,j,i,str_dir_1, str_dir_2)"
   ],
   "metadata": {
    "collapsed": false,
    "ExecuteTime": {
     "end_time": "2024-03-14T12:42:22.378057Z",
     "start_time": "2024-03-14T12:40:20.436849Z"
    }
   },
   "id": "d2c383ab50e52e30",
   "execution_count": 11
  }
 ],
 "metadata": {
  "kernelspec": {
   "display_name": "Python 3",
   "language": "python",
   "name": "python3"
  },
  "language_info": {
   "codemirror_mode": {
    "name": "ipython",
    "version": 2
   },
   "file_extension": ".py",
   "mimetype": "text/x-python",
   "name": "python",
   "nbconvert_exporter": "python",
   "pygments_lexer": "ipython2",
   "version": "2.7.6"
  }
 },
 "nbformat": 4,
 "nbformat_minor": 5
}
