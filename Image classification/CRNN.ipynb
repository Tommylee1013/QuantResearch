{
 "cells": [
  {
   "cell_type": "markdown",
   "source": [
    "### CRNN"
   ],
   "metadata": {
    "collapsed": false
   },
   "id": "1deaaceaeaabb7ee"
  },
  {
   "cell_type": "code",
   "execution_count": 39,
   "id": "initial_id",
   "metadata": {
    "collapsed": true,
    "ExecuteTime": {
     "end_time": "2024-03-14T13:09:15.490736Z",
     "start_time": "2024-03-14T13:09:15.433822Z"
    }
   },
   "outputs": [],
   "source": [
    "import torch\n",
    "import torch.nn as nn\n",
    "import torch.optim as optim\n",
    "from torch.utils.data import DataLoader\n",
    "from torchvision import datasets, transforms\n",
    "import numpy as np\n",
    "import pandas as pd\n",
    "import matplotlib.pyplot as plt"
   ]
  },
  {
   "cell_type": "code",
   "outputs": [
    {
     "name": "stdout",
     "output_type": "stream",
     "text": [
      "Using mps device\n"
     ]
    }
   ],
   "source": [
    "device = torch.device(\"mps\" if torch.backends.mps.is_available() else \"cpu\")\n",
    "print(f\"Using {device} device\")"
   ],
   "metadata": {
    "collapsed": false,
    "ExecuteTime": {
     "end_time": "2024-03-14T13:09:16.880651Z",
     "start_time": "2024-03-14T13:09:16.870924Z"
    }
   },
   "id": "f8a423b2d35e6b83",
   "execution_count": 40
  },
  {
   "cell_type": "code",
   "outputs": [],
   "source": [
    "transform_train = transforms.Compose([\n",
    "    transforms.Resize((64, 64)),\n",
    "    transforms.ToTensor(),\n",
    "    transforms.Normalize(mean=[0.485, 0.456, 0.406], std=[0.229, 0.224, 0.225]),\n",
    "    transforms.RandomHorizontalFlip(),\n",
    "    transforms.RandomAffine(degrees=0, translate=(0.1, 0.1))\n",
    "])\n",
    "\n",
    "transform_val = transforms.Compose([\n",
    "    transforms.Resize((64, 64)),\n",
    "    transforms.ToTensor(),\n",
    "    transforms.Normalize(mean=[0.485, 0.456, 0.406], std=[0.229, 0.224, 0.225])\n",
    "])\n",
    "\n",
    "transform_test = transforms.Compose([\n",
    "    transforms.Resize((64, 64)),\n",
    "    transforms.ToTensor(),\n",
    "    transforms.Normalize(mean=[0.485, 0.456, 0.406], std=[0.229, 0.224, 0.225])\n",
    "])"
   ],
   "metadata": {
    "collapsed": false,
    "ExecuteTime": {
     "end_time": "2024-03-14T13:47:43.040459Z",
     "start_time": "2024-03-14T13:47:42.990494Z"
    }
   },
   "id": "5f6734e35c6c52c7",
   "execution_count": 42
  },
  {
   "cell_type": "code",
   "outputs": [],
   "source": [
    "train_data_dir = \"./stockpred/bb/str3/train\"\n",
    "validation_data_dir = \"./stockpred/bb/str3/val\"\n",
    "test_data_dir = \"./stockpred/bb/str3/test\""
   ],
   "metadata": {
    "collapsed": false,
    "ExecuteTime": {
     "end_time": "2024-03-14T13:47:45.187401Z",
     "start_time": "2024-03-14T13:47:45.182273Z"
    }
   },
   "id": "3043de98aee7a061",
   "execution_count": 43
  },
  {
   "cell_type": "code",
   "outputs": [],
   "source": [
    "train_data = datasets.ImageFolder(root=train_data_dir, transform=transform_train)\n",
    "val_data = datasets.ImageFolder(root=validation_data_dir, transform=transform_val)\n",
    "test_data = datasets.ImageFolder(root=test_data_dir, transform=transform_test)\n",
    "\n",
    "train_loader = DataLoader(train_data, batch_size=32, shuffle=False)\n",
    "val_loader = DataLoader(val_data, batch_size=32, shuffle=False)\n",
    "test_loader = DataLoader(test_data, batch_size=32, shuffle=False)"
   ],
   "metadata": {
    "collapsed": false,
    "ExecuteTime": {
     "end_time": "2024-03-14T13:47:48.555831Z",
     "start_time": "2024-03-14T13:47:48.451286Z"
    }
   },
   "id": "93d6208c7eb860ca",
   "execution_count": 44
  },
  {
   "cell_type": "code",
   "outputs": [],
   "source": [
    "class CRNN(nn.Module):\n",
    "    def __init__(self):\n",
    "        super(CRNN, self).__init__()\n",
    "        self.cnn = nn.Sequential(\n",
    "            nn.Conv2d(3, 32, kernel_size=3, stride=1, padding=1),\n",
    "            nn.SiLU(),\n",
    "            nn.MaxPool2d(kernel_size=2, stride=2),\n",
    "            nn.Conv2d(32, 32, kernel_size=3, stride=1, padding=1),\n",
    "            nn.SiLU(),\n",
    "            nn.MaxPool2d(kernel_size=2, stride=2)\n",
    "        )\n",
    "        \n",
    "        self.rnn = nn.GRU(input_size=32 * 16 * 16, hidden_size=128, num_layers=2, batch_first=True)\n",
    "        self.fc = nn.Linear(128, 3)  # 이진 분류를 가정\n",
    "        self.to(device)  # 모델을 MPS 디바이스로 이동\n",
    "    \n",
    "    def forward(self, x):\n",
    "        x = x.to(device)  # 입력 데이터를 MPS 디바이스로 이동\n",
    "        x = self.cnn(x)\n",
    "        x = x.view(x.size(0), -1, x.size(1) * x.size(2) * x.size(3))  # RNN 입력을 위한 텐서 재배치\n",
    "        x, _ = self.rnn(x)\n",
    "        x = self.fc(x[:, -1, :])  # 마지막 시퀀스의 출력만 사용\n",
    "        return x"
   ],
   "metadata": {
    "collapsed": false,
    "ExecuteTime": {
     "end_time": "2024-03-14T13:47:53.914333Z",
     "start_time": "2024-03-14T13:47:53.900979Z"
    }
   },
   "id": "11c6813af05a10ab",
   "execution_count": 45
  },
  {
   "cell_type": "code",
   "outputs": [],
   "source": [
    "model = CRNN().to(device)  # 모델을 MPS 디바이스로 이동\n",
    "criterion = nn.CrossEntropyLoss()\n",
    "optimizer = optim.Adam(model.parameters(), lr=0.001)"
   ],
   "metadata": {
    "collapsed": false,
    "ExecuteTime": {
     "end_time": "2024-03-14T13:51:47.858342Z",
     "start_time": "2024-03-14T13:51:47.550535Z"
    }
   },
   "id": "11bdfccd3205f55",
   "execution_count": 53
  },
  {
   "cell_type": "code",
   "outputs": [],
   "source": [
    "def train(model, train_loader, criterion, optimizer, num_epochs=10):\n",
    "    model.train()\n",
    "    for epoch in range(num_epochs):\n",
    "        for images, labels in train_loader:\n",
    "            outputs = model(images).to(device)\n",
    "            loss = criterion(outputs, labels.to(device))\n",
    "            \n",
    "            optimizer.zero_grad()\n",
    "            loss.backward()\n",
    "            optimizer.step()\n",
    "        \n",
    "        print(f'Epoch [{epoch+1}/{num_epochs}], Loss: {loss.item():.4f}')"
   ],
   "metadata": {
    "collapsed": false,
    "ExecuteTime": {
     "end_time": "2024-03-14T13:51:50.228043Z",
     "start_time": "2024-03-14T13:51:50.222343Z"
    }
   },
   "id": "d24371782c1ddfbb",
   "execution_count": 54
  },
  {
   "cell_type": "code",
   "outputs": [],
   "source": [
    "def test(model, test_loader):\n",
    "    model.eval()\n",
    "    correct = 0\n",
    "    total = 0\n",
    "    with torch.no_grad():\n",
    "        for images, labels in test_loader:\n",
    "            images, labels = images.to(device), labels.to(device)\n",
    "            outputs = model(images)\n",
    "            _, predicted = torch.max(outputs.data, 1)\n",
    "            total += labels.size(0)\n",
    "            correct += (predicted == labels).sum().item()\n",
    "            \n",
    "    print(f'Accuracy of the model on the test images: {100 * correct / total}%')"
   ],
   "metadata": {
    "collapsed": false,
    "ExecuteTime": {
     "end_time": "2024-03-14T13:51:50.699829Z",
     "start_time": "2024-03-14T13:51:50.694281Z"
    }
   },
   "id": "23305c265d502aff",
   "execution_count": 55
  },
  {
   "cell_type": "code",
   "outputs": [
    {
     "name": "stdout",
     "output_type": "stream",
     "text": [
      "Epoch [1/2], Loss: 0.0101\n",
      "Epoch [2/2], Loss: 0.0379\n"
     ]
    }
   ],
   "source": [
    "train(\n",
    "    model, \n",
    "    train_loader, \n",
    "    criterion, \n",
    "    optimizer, \n",
    "    num_epochs = 2\n",
    ")"
   ],
   "metadata": {
    "collapsed": false,
    "ExecuteTime": {
     "end_time": "2024-03-14T13:52:34.533501Z",
     "start_time": "2024-03-14T13:51:59.056273Z"
    }
   },
   "id": "ec63b786d29bbc41",
   "execution_count": 56
  },
  {
   "cell_type": "code",
   "outputs": [
    {
     "name": "stdout",
     "output_type": "stream",
     "text": [
      "Accuracy of the model on the test images: 20.161290322580644%\n"
     ]
    }
   ],
   "source": [
    "test(model, val_loader)"
   ],
   "metadata": {
    "collapsed": false,
    "ExecuteTime": {
     "end_time": "2024-03-14T13:52:43.715679Z",
     "start_time": "2024-03-14T13:52:41.713540Z"
    }
   },
   "id": "86cc620ac1db09fe",
   "execution_count": 57
  },
  {
   "cell_type": "code",
   "outputs": [],
   "source": [
    "model.eval()\n",
    "predictions = []\n",
    "actuals = []\n",
    "with torch.no_grad():\n",
    "    for images, labels in test_loader:\n",
    "        images, labels = images.to(device), labels.to(device)\n",
    "        outputs = model(images)\n",
    "        _, predicted = torch.max(outputs, 1)\n",
    "        predictions.extend(predicted.cpu().numpy())\n",
    "        actuals.extend(labels.cpu().numpy())\n",
    "\n",
    "results_df = pd.DataFrame({'Actual': actuals, 'Predicted': predictions})"
   ],
   "metadata": {
    "collapsed": false,
    "ExecuteTime": {
     "end_time": "2024-03-14T13:52:45.141247Z",
     "start_time": "2024-03-14T13:52:44.829851Z"
    }
   },
   "id": "622f110eb3176528",
   "execution_count": 58
  },
  {
   "cell_type": "code",
   "outputs": [
    {
     "data": {
      "text/plain": "     Actual  Predicted\n0         0          1\n1         0          1\n2         0          1\n3         0          1\n4         0          1\n..      ...        ...\n379       0          1\n380       0          1\n381       0          1\n382       0          1\n383       0          1\n\n[384 rows x 2 columns]",
      "text/html": "<div>\n<style scoped>\n    .dataframe tbody tr th:only-of-type {\n        vertical-align: middle;\n    }\n\n    .dataframe tbody tr th {\n        vertical-align: top;\n    }\n\n    .dataframe thead th {\n        text-align: right;\n    }\n</style>\n<table border=\"1\" class=\"dataframe\">\n  <thead>\n    <tr style=\"text-align: right;\">\n      <th></th>\n      <th>Actual</th>\n      <th>Predicted</th>\n    </tr>\n  </thead>\n  <tbody>\n    <tr>\n      <th>0</th>\n      <td>0</td>\n      <td>1</td>\n    </tr>\n    <tr>\n      <th>1</th>\n      <td>0</td>\n      <td>1</td>\n    </tr>\n    <tr>\n      <th>2</th>\n      <td>0</td>\n      <td>1</td>\n    </tr>\n    <tr>\n      <th>3</th>\n      <td>0</td>\n      <td>1</td>\n    </tr>\n    <tr>\n      <th>4</th>\n      <td>0</td>\n      <td>1</td>\n    </tr>\n    <tr>\n      <th>...</th>\n      <td>...</td>\n      <td>...</td>\n    </tr>\n    <tr>\n      <th>379</th>\n      <td>0</td>\n      <td>1</td>\n    </tr>\n    <tr>\n      <th>380</th>\n      <td>0</td>\n      <td>1</td>\n    </tr>\n    <tr>\n      <th>381</th>\n      <td>0</td>\n      <td>1</td>\n    </tr>\n    <tr>\n      <th>382</th>\n      <td>0</td>\n      <td>1</td>\n    </tr>\n    <tr>\n      <th>383</th>\n      <td>0</td>\n      <td>1</td>\n    </tr>\n  </tbody>\n</table>\n<p>384 rows × 2 columns</p>\n</div>"
     },
     "execution_count": 52,
     "metadata": {},
     "output_type": "execute_result"
    }
   ],
   "source": [
    "results_df"
   ],
   "metadata": {
    "collapsed": false,
    "ExecuteTime": {
     "end_time": "2024-03-14T13:51:32.991264Z",
     "start_time": "2024-03-14T13:51:32.977901Z"
    }
   },
   "id": "45880b2179936665",
   "execution_count": 52
  },
  {
   "cell_type": "code",
   "outputs": [],
   "source": [
    "data = pd.read_csv('./stockpred/data/stock_data.csv', index_col = 0)\n",
    "data.index = pd.to_datetime(data.index)"
   ],
   "metadata": {
    "collapsed": false,
    "ExecuteTime": {
     "end_time": "2024-03-14T07:49:14.428132Z",
     "start_time": "2024-03-14T07:49:14.411572Z"
    }
   },
   "id": "56e9ca8ab442bfc4",
   "execution_count": 32
  },
  {
   "cell_type": "code",
   "outputs": [],
   "source": [
    "ret = data['Close'].pct_change().fillna(0)"
   ],
   "metadata": {
    "collapsed": false,
    "ExecuteTime": {
     "end_time": "2024-03-14T07:49:50.994725Z",
     "start_time": "2024-03-14T07:49:50.989923Z"
    }
   },
   "id": "c019d8466376806",
   "execution_count": 36
  },
  {
   "cell_type": "code",
   "outputs": [
    {
     "data": {
      "text/plain": "<Figure size 640x480 with 1 Axes>",
      "image/png": "[encoded data removed]"
     },
     "metadata": {},
     "output_type": "display_data"
    }
   ],
   "source": [
    "ret[-649:].cumsum().plot(\n",
    "    grid = False,\n",
    "    title = 'Bollinger band with CRNN | label : buy'\n",
    ")\n",
    "ret[-649:].iloc[\n",
    "    results_df[results_df['Predicted'] == 1].index\n",
    "].cumsum().plot(\n",
    "    grid = False\n",
    ")\n",
    "plt.axhline(0, lw = 1, ls = ':', c = 'k')\n",
    "plt.show()"
   ],
   "metadata": {
    "collapsed": false,
    "ExecuteTime": {
     "end_time": "2024-03-14T07:55:36.630700Z",
     "start_time": "2024-03-14T07:55:36.491234Z"
    }
   },
   "id": "8ec8e9b29d27f503",
   "execution_count": 52
  },
  {
   "cell_type": "markdown",
   "source": [
    "strategy 2"
   ],
   "metadata": {
    "collapsed": false
   },
   "id": "acd0b9d1e9599a61"
  },
  {
   "cell_type": "code",
   "outputs": [],
   "source": [
    "train_data_dir = \"./stockpred/bb/str1/train\"\n",
    "validation_data_dir = \"./stockpred/bb/str1/val\"\n",
    "\n"
   ],
   "metadata": {
    "collapsed": false
   },
   "id": "5edd1d1761831c42"
  }
 ],
 "metadata": {
  "kernelspec": {
   "display_name": "Python 3",
   "language": "python",
   "name": "python3"
  },
  "language_info": {
   "codemirror_mode": {
    "name": "ipython",
    "version": 2
   },
   "file_extension": ".py",
   "mimetype": "text/x-python",
   "name": "python",
   "nbconvert_exporter": "python",
   "pygments_lexer": "ipython2",
   "version": "2.7.6"
  }
 },
 "nbformat": 4,
 "nbformat_minor": 5
}
