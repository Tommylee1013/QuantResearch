{
 "cells": [
  {
   "cell_type": "markdown",
   "source": [
    "### Additional Assets\n",
    "\n",
    "- 삼성전자 (005930)\n",
    "- AAPL\n",
    "- MSFT\n",
    "- TSLA\n",
    "- 미국채 10년물\n",
    "- 달러 / 엔\n",
    "- 달러 / 원\n",
    "- WTI Crude"
   ],
   "metadata": {
    "collapsed": false
   },
   "id": "25918c8d2fd157d6"
  },
  {
   "cell_type": "code",
   "execution_count": 3,
   "id": "initial_id",
   "metadata": {
    "collapsed": true,
    "ExecuteTime": {
     "end_time": "2024-03-23T05:56:06.415261Z",
     "start_time": "2024-03-23T05:56:06.412505Z"
    }
   },
   "outputs": [],
   "source": [
    "from utils import *"
   ]
  },
  {
   "cell_type": "code",
   "outputs": [
    {
     "name": "stderr",
     "output_type": "stream",
     "text": [
      "[*********************100%%**********************]  3 of 3 completed\n"
     ]
    }
   ],
   "source": [
    "import yfinance as yf\n",
    "\n",
    "stock_tickers = ['AAPL','MSFT','TSLA']\n",
    "stocks = yf.download(tickers = stock_tickers, start = start_date, end = end_date)['Adj Close']"
   ],
   "metadata": {
    "collapsed": false,
    "ExecuteTime": {
     "end_time": "2024-03-23T06:14:34.211139Z",
     "start_time": "2024-03-23T06:14:32.733629Z"
    }
   },
   "id": "10a08dea3c0f8d76",
   "execution_count": 5
  },
  {
   "cell_type": "code",
   "outputs": [],
   "source": [
    "stocks_ret = stocks.pct_change()\n",
    "cumret = ((1 + stocks_ret).cumprod() - 1).fillna(0)"
   ],
   "metadata": {
    "collapsed": false,
    "ExecuteTime": {
     "end_time": "2024-03-23T06:20:29.026062Z",
     "start_time": "2024-03-23T06:20:29.021798Z"
    }
   },
   "id": "74a768d8d65bde93",
   "execution_count": 9
  },
  {
   "cell_type": "code",
   "outputs": [
    {
     "data": {
      "text/plain": "Ticker          AAPL       MSFT       TSLA\nDate                                      \n2014-01-02  0.000000   0.000000   0.000000\n2014-01-03 -0.021966  -0.006728  -0.003598\n2014-01-06 -0.016632  -0.027718  -0.020653\n2014-01-07 -0.023665  -0.020183  -0.004930\n2014-01-08 -0.017482  -0.037675   0.007861\n...              ...        ...        ...\n2024-03-18  9.043560  12.361485  16.368421\n2024-03-19  9.180003  12.492435  16.120586\n2024-03-20  9.329742  12.614742  16.554297\n2024-03-21  8.907695  12.747293  16.270486\n2024-03-22  8.960307  12.727122  16.071618\n\n[2573 rows x 3 columns]",
      "text/html": "<div>\n<style scoped>\n    .dataframe tbody tr th:only-of-type {\n        vertical-align: middle;\n    }\n\n    .dataframe tbody tr th {\n        vertical-align: top;\n    }\n\n    .dataframe thead th {\n        text-align: right;\n    }\n</style>\n<table border=\"1\" class=\"dataframe\">\n  <thead>\n    <tr style=\"text-align: right;\">\n      <th>Ticker</th>\n      <th>AAPL</th>\n      <th>MSFT</th>\n      <th>TSLA</th>\n    </tr>\n    <tr>\n      <th>Date</th>\n      <th></th>\n      <th></th>\n      <th></th>\n    </tr>\n  </thead>\n  <tbody>\n    <tr>\n      <th>2014-01-02</th>\n      <td>0.000000</td>\n      <td>0.000000</td>\n      <td>0.000000</td>\n    </tr>\n    <tr>\n      <th>2014-01-03</th>\n      <td>-0.021966</td>\n      <td>-0.006728</td>\n      <td>-0.003598</td>\n    </tr>\n    <tr>\n      <th>2014-01-06</th>\n      <td>-0.016632</td>\n      <td>-0.027718</td>\n      <td>-0.020653</td>\n    </tr>\n    <tr>\n      <th>2014-01-07</th>\n      <td>-0.023665</td>\n      <td>-0.020183</td>\n      <td>-0.004930</td>\n    </tr>\n    <tr>\n      <th>2014-01-08</th>\n      <td>-0.017482</td>\n      <td>-0.037675</td>\n      <td>0.007861</td>\n    </tr>\n    <tr>\n      <th>...</th>\n      <td>...</td>\n      <td>...</td>\n      <td>...</td>\n    </tr>\n    <tr>\n      <th>2024-03-18</th>\n      <td>9.043560</td>\n      <td>12.361485</td>\n      <td>16.368421</td>\n    </tr>\n    <tr>\n      <th>2024-03-19</th>\n      <td>9.180003</td>\n      <td>12.492435</td>\n      <td>16.120586</td>\n    </tr>\n    <tr>\n      <th>2024-03-20</th>\n      <td>9.329742</td>\n      <td>12.614742</td>\n      <td>16.554297</td>\n    </tr>\n    <tr>\n      <th>2024-03-21</th>\n      <td>8.907695</td>\n      <td>12.747293</td>\n      <td>16.270486</td>\n    </tr>\n    <tr>\n      <th>2024-03-22</th>\n      <td>8.960307</td>\n      <td>12.727122</td>\n      <td>16.071618</td>\n    </tr>\n  </tbody>\n</table>\n<p>2573 rows × 3 columns</p>\n</div>"
     },
     "execution_count": 10,
     "metadata": {},
     "output_type": "execute_result"
    }
   ],
   "source": [
    "cumret"
   ],
   "metadata": {
    "collapsed": false,
    "ExecuteTime": {
     "end_time": "2024-03-23T06:20:30.946415Z",
     "start_time": "2024-03-23T06:20:30.941032Z"
    }
   },
   "id": "8dea7856a678fdd7",
   "execution_count": 10
  },
  {
   "cell_type": "code",
   "outputs": [],
   "source": [
    "days = (i for i in range(3, 62, 2))\n",
    "threshold = tuple([-i * 0.01 for i in range(3, 21)])"
   ],
   "metadata": {
    "collapsed": false,
    "ExecuteTime": {
     "end_time": "2024-03-23T06:20:32.810042Z",
     "start_time": "2024-03-23T06:20:32.806966Z"
    }
   },
   "id": "cefb8549fbc847b9",
   "execution_count": 11
  },
  {
   "cell_type": "code",
   "outputs": [],
   "source": [
    "items = [(i, j) for i in days for j in threshold]"
   ],
   "metadata": {
    "collapsed": false,
    "ExecuteTime": {
     "end_time": "2024-03-23T06:21:39.218593Z",
     "start_time": "2024-03-23T06:21:39.215820Z"
    }
   },
   "id": "4355bed132542de9",
   "execution_count": 12
  },
  {
   "cell_type": "code",
   "outputs": [],
   "source": [
    "asset = dict()"
   ],
   "metadata": {
    "collapsed": false,
    "ExecuteTime": {
     "end_time": "2024-03-23T06:23:04.183427Z",
     "start_time": "2024-03-23T06:23:04.181344Z"
    }
   },
   "id": "4ab83a396a08b300",
   "execution_count": 18
  },
  {
   "cell_type": "code",
   "outputs": [],
   "source": [
    "for i in cumret.columns :\n",
    "    asset[i] = pd.DataFrame(index = stocks.index)"
   ],
   "metadata": {
    "collapsed": false,
    "ExecuteTime": {
     "end_time": "2024-03-23T06:23:36.601341Z",
     "start_time": "2024-03-23T06:23:36.598540Z"
    }
   },
   "id": "a2ca95da97f00558",
   "execution_count": 19
  },
  {
   "cell_type": "code",
   "outputs": [],
   "source": [
    "for i in cumret.columns :\n",
    "    for j in range(1, 501) :\n",
    "        asset[i]['-' + str(j) + 'days'] = (stocks[i] - stocks[i].shift(j)) / stocks[i]"
   ],
   "metadata": {
    "collapsed": false,
    "ExecuteTime": {
     "end_time": "2024-03-23T06:33:49.732723Z",
     "start_time": "2024-03-23T06:33:49.424366Z"
    }
   },
   "id": "e865926591a40b88",
   "execution_count": 24
  },
  {
   "cell_type": "code",
   "outputs": [],
   "source": [
    "for i in cumret.columns :\n",
    "    asset[i].to_csv(i + '_returns_data_adj.csv')\n",
    "    asset[i].to_excel(i + '_returns_data_adj.xlsx')"
   ],
   "metadata": {
    "collapsed": false,
    "ExecuteTime": {
     "end_time": "2024-03-23T06:36:24.588899Z",
     "start_time": "2024-03-23T06:35:48.976840Z"
    }
   },
   "id": "a58b17ca83e4ad21",
   "execution_count": 27
  },
  {
   "cell_type": "code",
   "outputs": [],
   "source": [
    "for i in cumret.columns :\n",
    "    asset[i].index = range(len(stocks))"
   ],
   "metadata": {
    "collapsed": false,
    "ExecuteTime": {
     "end_time": "2024-03-23T06:38:50.773615Z",
     "start_time": "2024-03-23T06:38:50.770441Z"
    }
   },
   "id": "3f34e9788cc1988e",
   "execution_count": 28
  },
  {
   "cell_type": "code",
   "outputs": [
    {
     "data": {
      "text/plain": "Ticker          AAPL       MSFT       TSLA\nDate                                      \n2014-01-02  0.000000   0.000000   0.000000\n2014-01-03 -0.021966  -0.006728  -0.003598\n2014-01-06 -0.016632  -0.027718  -0.020653\n2014-01-07 -0.023665  -0.020183  -0.004930\n2014-01-08 -0.017482  -0.037675   0.007861\n...              ...        ...        ...\n2024-03-18  9.043560  12.361485  16.368421\n2024-03-19  9.180003  12.492435  16.120586\n2024-03-20  9.329742  12.614742  16.554297\n2024-03-21  8.907695  12.747293  16.270486\n2024-03-22  8.960307  12.727122  16.071618\n\n[2573 rows x 3 columns]",
      "text/html": "<div>\n<style scoped>\n    .dataframe tbody tr th:only-of-type {\n        vertical-align: middle;\n    }\n\n    .dataframe tbody tr th {\n        vertical-align: top;\n    }\n\n    .dataframe thead th {\n        text-align: right;\n    }\n</style>\n<table border=\"1\" class=\"dataframe\">\n  <thead>\n    <tr style=\"text-align: right;\">\n      <th>Ticker</th>\n      <th>AAPL</th>\n      <th>MSFT</th>\n      <th>TSLA</th>\n    </tr>\n    <tr>\n      <th>Date</th>\n      <th></th>\n      <th></th>\n      <th></th>\n    </tr>\n  </thead>\n  <tbody>\n    <tr>\n      <th>2014-01-02</th>\n      <td>0.000000</td>\n      <td>0.000000</td>\n      <td>0.000000</td>\n    </tr>\n    <tr>\n      <th>2014-01-03</th>\n      <td>-0.021966</td>\n      <td>-0.006728</td>\n      <td>-0.003598</td>\n    </tr>\n    <tr>\n      <th>2014-01-06</th>\n      <td>-0.016632</td>\n      <td>-0.027718</td>\n      <td>-0.020653</td>\n    </tr>\n    <tr>\n      <th>2014-01-07</th>\n      <td>-0.023665</td>\n      <td>-0.020183</td>\n      <td>-0.004930</td>\n    </tr>\n    <tr>\n      <th>2014-01-08</th>\n      <td>-0.017482</td>\n      <td>-0.037675</td>\n      <td>0.007861</td>\n    </tr>\n    <tr>\n      <th>...</th>\n      <td>...</td>\n      <td>...</td>\n      <td>...</td>\n    </tr>\n    <tr>\n      <th>2024-03-18</th>\n      <td>9.043560</td>\n      <td>12.361485</td>\n      <td>16.368421</td>\n    </tr>\n    <tr>\n      <th>2024-03-19</th>\n      <td>9.180003</td>\n      <td>12.492435</td>\n      <td>16.120586</td>\n    </tr>\n    <tr>\n      <th>2024-03-20</th>\n      <td>9.329742</td>\n      <td>12.614742</td>\n      <td>16.554297</td>\n    </tr>\n    <tr>\n      <th>2024-03-21</th>\n      <td>8.907695</td>\n      <td>12.747293</td>\n      <td>16.270486</td>\n    </tr>\n    <tr>\n      <th>2024-03-22</th>\n      <td>8.960307</td>\n      <td>12.727122</td>\n      <td>16.071618</td>\n    </tr>\n  </tbody>\n</table>\n<p>2573 rows × 3 columns</p>\n</div>"
     },
     "execution_count": 32,
     "metadata": {},
     "output_type": "execute_result"
    }
   ],
   "source": [
    "cumret"
   ],
   "metadata": {
    "collapsed": false,
    "ExecuteTime": {
     "end_time": "2024-03-23T06:50:42.965453Z",
     "start_time": "2024-03-23T06:50:42.960324Z"
    }
   },
   "id": "9ca9f5a36ff51c87",
   "execution_count": 32
  },
  {
   "cell_type": "code",
   "outputs": [
    {
     "data": {
      "text/plain": "{'AAPL':         -1days    -2days    -3days    -4days    -5days    -6days    -7days  \\\n 0          NaN       NaN       NaN       NaN       NaN       NaN       NaN   \n 1    -0.022459       NaN       NaN       NaN       NaN       NaN       NaN   \n 2     0.005424 -0.016914       NaN       NaN       NaN       NaN       NaN   \n 3    -0.007203 -0.001740 -0.024239       NaN       NaN       NaN       NaN   \n 4     0.006293 -0.000865  0.004563 -0.017793       NaN       NaN       NaN   \n ...        ...       ...       ...       ...       ...       ...       ...   \n 2568  0.006332  0.004145  0.014909  0.002821  0.005584  0.017212  0.027170   \n 2569  0.013403  0.019650  0.017492  0.028112  0.016186  0.018912  0.030384   \n 2570  0.014496  0.027705  0.033861  0.031734  0.042201  0.030447  0.033134   \n 2571 -0.042598 -0.027484 -0.013713 -0.007294 -0.009512  0.001400 -0.010854   \n 2572  0.005282 -0.037091 -0.022057 -0.008359 -0.001974 -0.004179  0.006675   \n \n         -8days    -9days   -10days  ...  -491days  -492days  -493days  \\\n 0          NaN       NaN       NaN  ...       NaN       NaN       NaN   \n 1          NaN       NaN       NaN  ...       NaN       NaN       NaN   \n 2          NaN       NaN       NaN  ...       NaN       NaN       NaN   \n 3          NaN       NaN       NaN  ...       NaN       NaN       NaN   \n 4          NaN       NaN       NaN  ...       NaN       NaN       NaN   \n ...        ...       ...       ...  ...       ...       ...       ...   \n 2568  0.026479  0.020723 -0.007944  ...  0.007941  0.006233 -0.011751   \n 2569  0.040209  0.039528  0.033848  ... -0.001953  0.021237  0.019553   \n 2570  0.044439  0.054122  0.053451  ...  0.031275  0.012571  0.035425   \n 2571 -0.008053  0.003735  0.013830  ...  0.008645 -0.009991 -0.029491   \n 2572 -0.005514 -0.002728  0.008997  ...  0.012102  0.013881 -0.004656   \n \n       -494days  -495days  -496days  -497days  -498days  -499days  -500days  \n 0          NaN       NaN       NaN       NaN       NaN       NaN       NaN  \n 1          NaN       NaN       NaN       NaN       NaN       NaN       NaN  \n 2          NaN       NaN       NaN       NaN       NaN       NaN       NaN  \n 3          NaN       NaN       NaN       NaN       NaN       NaN       NaN  \n 4          NaN       NaN       NaN       NaN       NaN       NaN       NaN  \n ...        ...       ...       ...       ...       ...       ...       ...  \n 2568 -0.018524  0.000599  0.005607  0.009307  0.031275  0.039186  0.058764  \n 2569  0.001809 -0.004873  0.013994  0.018935  0.022585  0.044259  0.052064  \n 2570  0.033765  0.016279  0.009694  0.028287  0.033157  0.036753  0.058114  \n 2571 -0.005663 -0.007394 -0.025626 -0.032491 -0.013106 -0.008029 -0.004279  \n 2572 -0.024053 -0.000351 -0.002073 -0.020208 -0.027037 -0.007755 -0.002704  \n \n [2573 rows x 500 columns],\n 'MSFT':         -1days    -2days    -3days    -4days    -5days    -6days    -7days  \\\n 0          NaN       NaN       NaN       NaN       NaN       NaN       NaN   \n 1    -0.006773       NaN       NaN       NaN       NaN       NaN       NaN   \n 2    -0.021588 -0.028508       NaN       NaN       NaN       NaN       NaN   \n 3     0.007690 -0.013732 -0.020599       NaN       NaN       NaN       NaN   \n 4    -0.018177 -0.010347 -0.032159 -0.039150       NaN       NaN       NaN   \n ...        ...       ...       ...       ...       ...       ...       ...   \n 2568  0.002157 -0.018930  0.005320  0.004888  0.030672  0.026598  0.019601   \n 2569  0.009706  0.011841 -0.009041  0.014974  0.014546  0.040080  0.036046   \n 2570  0.008983  0.018602  0.020718  0.000024  0.023822  0.023399  0.048703   \n 2571  0.009642  0.018539  0.028064  0.030160  0.009665  0.033235  0.032816   \n 2572 -0.001469  0.008187  0.017097  0.026636  0.028735  0.008210  0.031814   \n \n         -8days    -9days   -10days  ...  -491days  -492days  -493days  \\\n 0          NaN       NaN       NaN  ...       NaN       NaN       NaN   \n 1          NaN       NaN       NaN  ...       NaN       NaN       NaN   \n 2          NaN       NaN       NaN  ...       NaN       NaN       NaN   \n 3          NaN       NaN       NaN  ...       NaN       NaN       NaN   \n 4          NaN       NaN       NaN  ...       NaN       NaN       NaN   \n ...        ...       ...       ...  ...       ...       ...       ...   \n 2568  0.036495  0.035153  0.005751  ...  0.271735  0.274347  0.261285   \n 2569  0.029117  0.045846  0.044517  ...  0.265867  0.278803  0.281390   \n 2570  0.044705  0.037838  0.054418  ...  0.281909  0.272462  0.285282   \n 2571  0.057876  0.053916  0.047115  ...  0.314866  0.288833  0.279477   \n 2572  0.031394  0.056491  0.052526  ...  0.309575  0.313859  0.287788   \n \n       -494days  -495days  -496days  -497days  -498days  -499days  -500days  \n 0          NaN       NaN       NaN       NaN       NaN       NaN       NaN  \n 1          NaN       NaN       NaN       NaN       NaN       NaN       NaN  \n 2          NaN       NaN       NaN       NaN       NaN       NaN       NaN  \n 3          NaN       NaN       NaN       NaN       NaN       NaN       NaN  \n 4          NaN       NaN       NaN       NaN       NaN       NaN       NaN  \n ...        ...       ...       ...       ...       ...       ...       ...  \n 2568  0.257637  0.268722  0.285245  0.284256  0.295107  0.284350  0.295883  \n 2569  0.268454  0.264842  0.275819  0.292182  0.291203  0.301948  0.291296  \n 2570  0.287846  0.275026  0.271446  0.282325  0.298541  0.297570  0.308219  \n 2571  0.292173  0.294712  0.282016  0.278471  0.289245  0.305304  0.304343  \n 2572  0.278418  0.291133  0.293676  0.280961  0.277410  0.288201  0.304283  \n \n [2573 rows x 500 columns],\n 'TSLA':         -1days    -2days    -3days    -4days    -5days    -6days    -7days  \\\n 0          NaN       NaN       NaN       NaN       NaN       NaN       NaN   \n 1    -0.003611       NaN       NaN       NaN       NaN       NaN       NaN   \n 2    -0.017415 -0.021088       NaN       NaN       NaN       NaN       NaN   \n 3     0.015801 -0.001339 -0.004955       NaN       NaN       NaN       NaN   \n 4     0.012692  0.028292  0.011370  0.007800       NaN       NaN       NaN   \n ...        ...       ...       ...       ...       ...       ...       ...   \n 2568  0.058861  0.065017  0.024856 -0.021519 -0.022842 -0.008861 -0.027906   \n 2569 -0.014476  0.045237  0.051483  0.010740 -0.036306 -0.037649 -0.023465   \n 2570  0.024707  0.010589  0.068826  0.074917  0.035182 -0.010702 -0.012012   \n 2571 -0.016433  0.008680 -0.005671  0.053524  0.059715  0.019327 -0.027312   \n 2572 -0.011649 -0.028274 -0.002868 -0.017386  0.042498  0.048762  0.007903   \n \n         -8days    -9days   -10days  ...  -491days  -492days  -493days  \\\n 0          NaN       NaN       NaN  ...       NaN       NaN       NaN   \n 1          NaN       NaN       NaN  ...       NaN       NaN       NaN   \n 2          NaN       NaN       NaN  ...       NaN       NaN       NaN   \n 3          NaN       NaN       NaN  ...       NaN       NaN       NaN   \n 4          NaN       NaN       NaN  ...       NaN       NaN       NaN   \n ...        ...       ...       ...  ...       ...       ...       ...   \n 2568 -0.015765 -0.039931 -0.082509  ... -1.080150 -1.066743 -1.098178   \n 2569 -0.042785 -0.030469 -0.054985  ... -1.228675 -1.110261 -1.096661   \n 2570  0.001822 -0.017021 -0.005010  ... -1.070781 -1.173612 -1.058124   \n 2571 -0.028642 -0.014582 -0.033734  ... -1.017050 -1.104810 -1.209331   \n 2572 -0.039279 -0.040625 -0.026400  ... -1.062987 -1.040547 -1.129329   \n \n       -494days  -495days  -496days  -497days  -498days  -499days  -500days  \n 0          NaN       NaN       NaN       NaN       NaN       NaN       NaN  \n 1          NaN       NaN       NaN       NaN       NaN       NaN       NaN  \n 2          NaN       NaN       NaN       NaN       NaN       NaN       NaN  \n 3          NaN       NaN       NaN       NaN       NaN       NaN       NaN  \n 4          NaN       NaN       NaN       NaN       NaN       NaN       NaN  \n ...        ...       ...       ...       ...       ...       ...       ...  \n 2568 -1.108880 -1.094054 -0.938320 -0.944611 -0.916206 -0.906367 -0.766705  \n 2569 -1.128551 -1.139408 -1.124367 -0.966379 -0.972760 -0.943945 -0.933964  \n 2570 -1.044859 -1.075961 -1.086550 -1.071881 -0.917796 -0.924020 -0.895916  \n 2571 -1.091945 -1.078463 -1.110076 -1.120839 -1.105929 -0.949311 -0.955638  \n 2572 -1.235068 -1.116314 -1.102675 -1.134656 -1.145544 -1.130461 -0.972019  \n \n [2573 rows x 500 columns]}"
     },
     "execution_count": 34,
     "metadata": {},
     "output_type": "execute_result"
    }
   ],
   "source": [
    "asset"
   ],
   "metadata": {
    "collapsed": false,
    "ExecuteTime": {
     "end_time": "2024-03-23T06:52:11.511334Z",
     "start_time": "2024-03-23T06:52:11.496185Z"
    }
   },
   "id": "ebc4b67bf114088e",
   "execution_count": 34
  },
  {
   "cell_type": "code",
   "outputs": [
    {
     "data": {
      "text/plain": "(-0.03,\n -0.04,\n -0.05,\n -0.06,\n -0.07,\n -0.08,\n -0.09,\n -0.1,\n -0.11,\n -0.12,\n -0.13,\n -0.14,\n -0.15,\n -0.16,\n -0.17,\n -0.18,\n -0.19,\n -0.2)"
     },
     "execution_count": 61,
     "metadata": {},
     "output_type": "execute_result"
    }
   ],
   "source": [
    "threshold"
   ],
   "metadata": {
    "collapsed": false,
    "ExecuteTime": {
     "end_time": "2024-03-23T07:19:22.163974Z",
     "start_time": "2024-03-23T07:19:22.161305Z"
    }
   },
   "id": "f2d3914674deb26b",
   "execution_count": 61
  },
  {
   "cell_type": "code",
   "outputs": [
    {
     "data": {
      "text/plain": "17     -0.086871\n168    -0.044067\n184    -0.039644\n230    -0.033545\n268    -0.036284\n          ...   \n2413   -0.050442\n2435   -0.037122\n2436   -0.030131\n2516   -0.037115\n2571   -0.042598\nName: -1days, Length: 111, dtype: float64"
     },
     "execution_count": 59,
     "metadata": {},
     "output_type": "execute_result"
    }
   ],
   "source": [
    "asset['AAPL']['-1days'][asset['AAPL']['-1days'] < -0.03]"
   ],
   "metadata": {
    "collapsed": false,
    "ExecuteTime": {
     "end_time": "2024-03-23T07:18:33.677625Z",
     "start_time": "2024-03-23T07:18:33.673242Z"
    }
   },
   "id": "76a18ea70057eb71",
   "execution_count": 59
  },
  {
   "cell_type": "code",
   "outputs": [
    {
     "name": "stderr",
     "output_type": "stream",
     "text": [
      "  0%|          | 0/540 [00:00<?, ?it/s]"
     ]
    },
    {
     "name": "stdout",
     "output_type": "stream",
     "text": [
      "IndexError occurred for AAPL at iteration 1, skipping...\n",
      "IndexError occurred for AAPL at iteration 2, skipping...\n",
      "IndexError occurred for AAPL at iteration 14, skipping...\n",
      "IndexError occurred for AAPL at iteration 15, skipping...\n",
      "IndexError occurred for AAPL at iteration 16, skipping...\n",
      "IndexError occurred for AAPL at iteration 17, skipping...\n",
      "IndexError occurred for AAPL at iteration 18, skipping...\n",
      "IndexError occurred for AAPL at iteration 19, skipping...\n",
      "IndexError occurred for AAPL at iteration 20, skipping...\n",
      "IndexError occurred for AAPL at iteration 21, skipping...\n",
      "IndexError occurred for AAPL at iteration 22, skipping...\n",
      "IndexError occurred for AAPL at iteration 23, skipping...\n",
      "IndexError occurred for AAPL at iteration 24, skipping...\n",
      "IndexError occurred for AAPL at iteration 25, skipping...\n",
      "IndexError occurred for AAPL at iteration 26, skipping...\n",
      "IndexError occurred for AAPL at iteration 27, skipping...\n",
      "IndexError occurred for AAPL at iteration 28, skipping...\n",
      "IndexError occurred for AAPL at iteration 29, skipping...\n",
      "IndexError occurred for AAPL at iteration 30, skipping...\n",
      "IndexError occurred for AAPL at iteration 31, skipping...\n",
      "IndexError occurred for AAPL at iteration 32, skipping...\n",
      "IndexError occurred for AAPL at iteration 33, skipping...\n",
      "IndexError occurred for AAPL at iteration 34, skipping...\n",
      "IndexError occurred for AAPL at iteration 35, skipping...\n",
      "IndexError occurred for AAPL at iteration 36, skipping...\n",
      "IndexError occurred for AAPL at iteration 37, skipping...\n",
      "IndexError occurred for AAPL at iteration 38, skipping...\n",
      "IndexError occurred for AAPL at iteration 39, skipping...\n",
      "IndexError occurred for AAPL at iteration 40, skipping...\n",
      "IndexError occurred for AAPL at iteration 41, skipping...\n",
      "IndexError occurred for AAPL at iteration 42, skipping...\n",
      "IndexError occurred for AAPL at iteration 43, skipping...\n",
      "IndexError occurred for AAPL at iteration 44, skipping...\n",
      "IndexError occurred for AAPL at iteration 45, skipping...\n",
      "IndexError occurred for AAPL at iteration 46, skipping...\n",
      "IndexError occurred for AAPL at iteration 47, skipping...\n",
      "IndexError occurred for AAPL at iteration 48, skipping...\n",
      "IndexError occurred for AAPL at iteration 49, skipping...\n",
      "IndexError occurred for AAPL at iteration 50, skipping...\n",
      "IndexError occurred for AAPL at iteration 51, skipping...\n",
      "IndexError occurred for AAPL at iteration 52, skipping...\n",
      "IndexError occurred for AAPL at iteration 53, skipping...\n",
      "IndexError occurred for AAPL at iteration 54, skipping...\n",
      "IndexError occurred for AAPL at iteration 55, skipping...\n",
      "IndexError occurred for AAPL at iteration 56, skipping...\n",
      "IndexError occurred for AAPL at iteration 57, skipping...\n",
      "IndexError occurred for AAPL at iteration 58, skipping...\n",
      "IndexError occurred for AAPL at iteration 59, skipping...\n",
      "IndexError occurred for AAPL at iteration 60, skipping...\n",
      "IndexError occurred for AAPL at iteration 61, skipping...\n",
      "IndexError occurred for AAPL at iteration 62, skipping...\n",
      "IndexError occurred for AAPL at iteration 63, skipping...\n",
      "IndexError occurred for AAPL at iteration 64, skipping...\n",
      "IndexError occurred for AAPL at iteration 65, skipping...\n",
      "IndexError occurred for AAPL at iteration 66, skipping...\n",
      "IndexError occurred for AAPL at iteration 67, skipping...\n",
      "IndexError occurred for AAPL at iteration 68, skipping...\n",
      "IndexError occurred for AAPL at iteration 69, skipping...\n",
      "IndexError occurred for AAPL at iteration 70, skipping...\n",
      "IndexError occurred for AAPL at iteration 71, skipping...\n",
      "IndexError occurred for AAPL at iteration 72, skipping...\n",
      "IndexError occurred for AAPL at iteration 73, skipping...\n",
      "IndexError occurred for AAPL at iteration 74, skipping...\n",
      "IndexError occurred for AAPL at iteration 75, skipping...\n",
      "IndexError occurred for AAPL at iteration 76, skipping...\n",
      "IndexError occurred for AAPL at iteration 77, skipping...\n",
      "IndexError occurred for AAPL at iteration 78, skipping...\n",
      "IndexError occurred for AAPL at iteration 79, skipping...\n",
      "IndexError occurred for AAPL at iteration 80, skipping...\n",
      "IndexError occurred for AAPL at iteration 81, skipping...\n",
      "IndexError occurred for AAPL at iteration 82, skipping...\n",
      "IndexError occurred for AAPL at iteration 83, skipping...\n",
      "IndexError occurred for AAPL at iteration 84, skipping...\n",
      "IndexError occurred for AAPL at iteration 85, skipping...\n",
      "IndexError occurred for AAPL at iteration 86, skipping...\n",
      "IndexError occurred for AAPL at iteration 87, skipping...\n",
      "IndexError occurred for AAPL at iteration 88, skipping...\n",
      "IndexError occurred for AAPL at iteration 89, skipping...\n",
      "IndexError occurred for AAPL at iteration 90, skipping...\n",
      "IndexError occurred for AAPL at iteration 91, skipping...\n",
      "IndexError occurred for AAPL at iteration 92, skipping...\n",
      "IndexError occurred for AAPL at iteration 93, skipping...\n",
      "IndexError occurred for AAPL at iteration 94, skipping...\n",
      "IndexError occurred for AAPL at iteration 95, skipping...\n",
      "IndexError occurred for AAPL at iteration 107, skipping...\n",
      "IndexError occurred for AAPL at iteration 108, skipping...\n",
      "IndexError occurred for AAPL at iteration 109, skipping...\n",
      "IndexError occurred for AAPL at iteration 110, skipping...\n",
      "IndexError occurred for AAPL at iteration 111, skipping...\n",
      "IndexError occurred for AAPL at iteration 112, skipping...\n",
      "IndexError occurred for AAPL at iteration 113, skipping...\n",
      "IndexError occurred for AAPL at iteration 114, skipping...\n",
      "IndexError occurred for AAPL at iteration 127, skipping...\n",
      "IndexError occurred for AAPL at iteration 128, skipping...\n",
      "IndexError occurred for AAPL at iteration 129, skipping...\n",
      "IndexError occurred for AAPL at iteration 133, skipping...\n",
      "IndexError occurred for AAPL at iteration 134, skipping...\n",
      "IndexError occurred for AAPL at iteration 135, skipping...\n",
      "IndexError occurred for AAPL at iteration 136, skipping...\n",
      "IndexError occurred for AAPL at iteration 137, skipping...\n",
      "IndexError occurred for AAPL at iteration 138, skipping...\n",
      "IndexError occurred for AAPL at iteration 139, skipping...\n",
      "IndexError occurred for AAPL at iteration 140, skipping...\n",
      "IndexError occurred for AAPL at iteration 141, skipping...\n",
      "IndexError occurred for AAPL at iteration 142, skipping...\n",
      "IndexError occurred for AAPL at iteration 143, skipping...\n",
      "IndexError occurred for AAPL at iteration 144, skipping...\n",
      "IndexError occurred for AAPL at iteration 145, skipping...\n",
      "IndexError occurred for AAPL at iteration 146, skipping...\n",
      "IndexError occurred for AAPL at iteration 151, skipping...\n",
      "IndexError occurred for AAPL at iteration 152, skipping...\n",
      "IndexError occurred for AAPL at iteration 153, skipping...\n",
      "IndexError occurred for AAPL at iteration 154, skipping...\n",
      "IndexError occurred for AAPL at iteration 155, skipping...\n",
      "IndexError occurred for AAPL at iteration 156, skipping...\n",
      "IndexError occurred for AAPL at iteration 157, skipping...\n",
      "IndexError occurred for AAPL at iteration 158, skipping...\n",
      "IndexError occurred for AAPL at iteration 159, skipping...\n",
      "IndexError occurred for AAPL at iteration 160, skipping...\n",
      "IndexError occurred for AAPL at iteration 161, skipping...\n",
      "IndexError occurred for AAPL at iteration 162, skipping...\n",
      "IndexError occurred for AAPL at iteration 163, skipping...\n",
      "IndexError occurred for AAPL at iteration 164, skipping...\n",
      "IndexError occurred for AAPL at iteration 165, skipping...\n",
      "IndexError occurred for AAPL at iteration 166, skipping...\n",
      "IndexError occurred for AAPL at iteration 167, skipping...\n",
      "IndexError occurred for AAPL at iteration 168, skipping...\n",
      "IndexError occurred for AAPL at iteration 169, skipping...\n",
      "IndexError occurred for AAPL at iteration 170, skipping...\n",
      "IndexError occurred for AAPL at iteration 171, skipping...\n",
      "IndexError occurred for AAPL at iteration 172, skipping...\n",
      "IndexError occurred for AAPL at iteration 173, skipping...\n",
      "IndexError occurred for AAPL at iteration 174, skipping...\n",
      "IndexError occurred for AAPL at iteration 175, skipping...\n",
      "IndexError occurred for AAPL at iteration 176, skipping...\n",
      "IndexError occurred for AAPL at iteration 177, skipping...\n",
      "IndexError occurred for AAPL at iteration 178, skipping...\n",
      "IndexError occurred for AAPL at iteration 179, skipping...\n",
      "IndexError occurred for AAPL at iteration 180, skipping...\n",
      "IndexError occurred for AAPL at iteration 181, skipping...\n",
      "IndexError occurred for AAPL at iteration 182, skipping...\n",
      "IndexError occurred for AAPL at iteration 183, skipping...\n",
      "IndexError occurred for AAPL at iteration 184, skipping...\n",
      "IndexError occurred for AAPL at iteration 185, skipping...\n",
      "IndexError occurred for AAPL at iteration 186, skipping...\n",
      "IndexError occurred for AAPL at iteration 187, skipping...\n",
      "IndexError occurred for AAPL at iteration 188, skipping...\n",
      "IndexError occurred for AAPL at iteration 189, skipping...\n",
      "IndexError occurred for AAPL at iteration 190, skipping...\n",
      "IndexError occurred for AAPL at iteration 191, skipping...\n",
      "IndexError occurred for AAPL at iteration 192, skipping...\n",
      "IndexError occurred for AAPL at iteration 193, skipping...\n",
      "IndexError occurred for AAPL at iteration 194, skipping...\n",
      "IndexError occurred for AAPL at iteration 195, skipping...\n",
      "IndexError occurred for AAPL at iteration 196, skipping...\n",
      "IndexError occurred for AAPL at iteration 197, skipping...\n",
      "IndexError occurred for AAPL at iteration 198, skipping...\n",
      "IndexError occurred for AAPL at iteration 199, skipping...\n",
      "IndexError occurred for AAPL at iteration 200, skipping...\n",
      "IndexError occurred for AAPL at iteration 201, skipping...\n",
      "IndexError occurred for AAPL at iteration 202, skipping...\n",
      "IndexError occurred for AAPL at iteration 203, skipping...\n",
      "IndexError occurred for AAPL at iteration 204, skipping...\n"
     ]
    },
    {
     "name": "stderr",
     "output_type": "stream",
     "text": [
      "  0%|          | 0/540 [00:03<?, ?it/s]\n"
     ]
    },
    {
     "ename": "KeyboardInterrupt",
     "evalue": "",
     "output_type": "error",
     "traceback": [
      "\u001B[1;31m---------------------------------------------------------------------------\u001B[0m",
      "\u001B[1;31mKeyboardInterrupt\u001B[0m                         Traceback (most recent call last)",
      "Cell \u001B[1;32mIn[79], line 28\u001B[0m\n\u001B[0;32m     23\u001B[0m         temp[\u001B[38;5;124m'\u001B[39m\u001B[38;5;124mtemp\u001B[39m\u001B[38;5;124m'\u001B[39m] \u001B[38;5;241m=\u001B[39m np\u001B[38;5;241m.\u001B[39mnan\n\u001B[0;32m     25\u001B[0m     dataframes[asset_index][\u001B[38;5;124mf\u001B[39m\u001B[38;5;124m'\u001B[39m\u001B[38;5;124mday\u001B[39m\u001B[38;5;132;01m{\u001B[39;00md\u001B[38;5;132;01m}\u001B[39;00m\u001B[38;5;124m_\u001B[39m\u001B[38;5;132;01m{\u001B[39;00mthres\u001B[38;5;132;01m}\u001B[39;00m\u001B[38;5;124mper\u001B[39m\u001B[38;5;124m'\u001B[39m] \u001B[38;5;241m=\u001B[39m pd\u001B[38;5;241m.\u001B[39mconcat(\n\u001B[0;32m     26\u001B[0m             [dataframes[asset_index][\u001B[38;5;124mf\u001B[39m\u001B[38;5;124m'\u001B[39m\u001B[38;5;124mday\u001B[39m\u001B[38;5;132;01m{\u001B[39;00md\u001B[38;5;132;01m}\u001B[39;00m\u001B[38;5;124m_\u001B[39m\u001B[38;5;132;01m{\u001B[39;00mthres\u001B[38;5;132;01m}\u001B[39;00m\u001B[38;5;124mper\u001B[39m\u001B[38;5;124m'\u001B[39m], temp], axis \u001B[38;5;241m=\u001B[39m \u001B[38;5;241m1\u001B[39m\n\u001B[0;32m     27\u001B[0m     )\n\u001B[1;32m---> 28\u001B[0m     dataframes_plot[asset_index][\u001B[38;5;124mf\u001B[39m\u001B[38;5;124m'\u001B[39m\u001B[38;5;124mday\u001B[39m\u001B[38;5;132;01m{\u001B[39;00md\u001B[38;5;132;01m}\u001B[39;00m\u001B[38;5;124m_\u001B[39m\u001B[38;5;132;01m{\u001B[39;00mthres\u001B[38;5;132;01m}\u001B[39;00m\u001B[38;5;124mper_plot\u001B[39m\u001B[38;5;124m'\u001B[39m] \u001B[38;5;241m=\u001B[39m pd\u001B[38;5;241m.\u001B[39mconcat(\n\u001B[0;32m     29\u001B[0m         [dataframes_plot[asset_index][\u001B[38;5;124mf\u001B[39m\u001B[38;5;124m'\u001B[39m\u001B[38;5;124mday\u001B[39m\u001B[38;5;132;01m{\u001B[39;00md\u001B[38;5;132;01m}\u001B[39;00m\u001B[38;5;124m_\u001B[39m\u001B[38;5;132;01m{\u001B[39;00mthres\u001B[38;5;132;01m}\u001B[39;00m\u001B[38;5;124mper_plot\u001B[39m\u001B[38;5;124m'\u001B[39m], temp], axis \u001B[38;5;241m=\u001B[39m \u001B[38;5;241m0\u001B[39m\n\u001B[0;32m     30\u001B[0m     )\n\u001B[0;32m     31\u001B[0m dataframes[asset_index][\u001B[38;5;124mf\u001B[39m\u001B[38;5;124m'\u001B[39m\u001B[38;5;124mday\u001B[39m\u001B[38;5;132;01m{\u001B[39;00md\u001B[38;5;132;01m}\u001B[39;00m\u001B[38;5;124m_\u001B[39m\u001B[38;5;132;01m{\u001B[39;00mthres\u001B[38;5;132;01m}\u001B[39;00m\u001B[38;5;124mper\u001B[39m\u001B[38;5;124m'\u001B[39m]\u001B[38;5;241m.\u001B[39mcolumns \u001B[38;5;241m=\u001B[39m [\u001B[38;5;28mstr\u001B[39m(\u001B[38;5;241m-\u001B[39mi) \u001B[38;5;241m+\u001B[39m \u001B[38;5;124m'\u001B[39m\u001B[38;5;124mdays\u001B[39m\u001B[38;5;124m'\u001B[39m \u001B[38;5;28;01mfor\u001B[39;00m i \u001B[38;5;129;01min\u001B[39;00m \u001B[38;5;28mrange\u001B[39m(\u001B[38;5;241m1\u001B[39m, \u001B[38;5;241m501\u001B[39m)]\n\u001B[0;32m     32\u001B[0m dataframes[asset_index][\u001B[38;5;124mf\u001B[39m\u001B[38;5;124m'\u001B[39m\u001B[38;5;124mday\u001B[39m\u001B[38;5;132;01m{\u001B[39;00md\u001B[38;5;132;01m}\u001B[39;00m\u001B[38;5;124m_\u001B[39m\u001B[38;5;132;01m{\u001B[39;00mthres\u001B[38;5;132;01m}\u001B[39;00m\u001B[38;5;124mper\u001B[39m\u001B[38;5;124m'\u001B[39m]\u001B[38;5;241m.\u001B[39mto_excel(\u001B[38;5;124mf\u001B[39m\u001B[38;5;124m'\u001B[39m\u001B[38;5;124m./excel/\u001B[39m\u001B[38;5;132;01m{\u001B[39;00masset_index\u001B[38;5;132;01m}\u001B[39;00m\u001B[38;5;124m_day\u001B[39m\u001B[38;5;132;01m{\u001B[39;00md\u001B[38;5;132;01m}\u001B[39;00m\u001B[38;5;124m_\u001B[39m\u001B[38;5;132;01m{\u001B[39;00m\u001B[38;5;28mint\u001B[39m(thres)\u001B[38;5;132;01m}\u001B[39;00m\u001B[38;5;124mper.xlsx\u001B[39m\u001B[38;5;124m'\u001B[39m)\n",
      "File \u001B[1;32m~\\anaconda3\\envs\\FinancialMachineLearning\\Lib\\site-packages\\pandas\\core\\reshape\\concat.py:395\u001B[0m, in \u001B[0;36mconcat\u001B[1;34m(objs, axis, join, ignore_index, keys, levels, names, verify_integrity, sort, copy)\u001B[0m\n\u001B[0;32m    380\u001B[0m     copy \u001B[38;5;241m=\u001B[39m \u001B[38;5;28;01mFalse\u001B[39;00m\n\u001B[0;32m    382\u001B[0m op \u001B[38;5;241m=\u001B[39m _Concatenator(\n\u001B[0;32m    383\u001B[0m     objs,\n\u001B[0;32m    384\u001B[0m     axis\u001B[38;5;241m=\u001B[39maxis,\n\u001B[1;32m   (...)\u001B[0m\n\u001B[0;32m    392\u001B[0m     sort\u001B[38;5;241m=\u001B[39msort,\n\u001B[0;32m    393\u001B[0m )\n\u001B[1;32m--> 395\u001B[0m \u001B[38;5;28;01mreturn\u001B[39;00m op\u001B[38;5;241m.\u001B[39mget_result()\n",
      "File \u001B[1;32m~\\anaconda3\\envs\\FinancialMachineLearning\\Lib\\site-packages\\pandas\\core\\reshape\\concat.py:671\u001B[0m, in \u001B[0;36m_Concatenator.get_result\u001B[1;34m(self)\u001B[0m\n\u001B[0;32m    669\u001B[0m \u001B[38;5;28;01mfor\u001B[39;00m obj \u001B[38;5;129;01min\u001B[39;00m \u001B[38;5;28mself\u001B[39m\u001B[38;5;241m.\u001B[39mobjs:\n\u001B[0;32m    670\u001B[0m     indexers \u001B[38;5;241m=\u001B[39m {}\n\u001B[1;32m--> 671\u001B[0m     \u001B[38;5;28;01mfor\u001B[39;00m ax, new_labels \u001B[38;5;129;01min\u001B[39;00m \u001B[38;5;28menumerate\u001B[39m(\u001B[38;5;28mself\u001B[39m\u001B[38;5;241m.\u001B[39mnew_axes):\n\u001B[0;32m    672\u001B[0m         \u001B[38;5;66;03m# ::-1 to convert BlockManager ax to DataFrame ax\u001B[39;00m\n\u001B[0;32m    673\u001B[0m         \u001B[38;5;28;01mif\u001B[39;00m ax \u001B[38;5;241m==\u001B[39m \u001B[38;5;28mself\u001B[39m\u001B[38;5;241m.\u001B[39mbm_axis:\n\u001B[0;32m    674\u001B[0m             \u001B[38;5;66;03m# Suppress reindexing on concat axis\u001B[39;00m\n\u001B[0;32m    675\u001B[0m             \u001B[38;5;28;01mcontinue\u001B[39;00m\n",
      "File \u001B[1;32mproperties.pyx:36\u001B[0m, in \u001B[0;36mpandas._libs.properties.CachedProperty.__get__\u001B[1;34m()\u001B[0m\n",
      "File \u001B[1;32m~\\anaconda3\\envs\\FinancialMachineLearning\\Lib\\site-packages\\pandas\\core\\reshape\\concat.py:702\u001B[0m, in \u001B[0;36m_Concatenator.new_axes\u001B[1;34m(self)\u001B[0m\n\u001B[0;32m    699\u001B[0m \u001B[38;5;129m@cache_readonly\u001B[39m\n\u001B[0;32m    700\u001B[0m \u001B[38;5;28;01mdef\u001B[39;00m \u001B[38;5;21mnew_axes\u001B[39m(\u001B[38;5;28mself\u001B[39m) \u001B[38;5;241m-\u001B[39m\u001B[38;5;241m>\u001B[39m \u001B[38;5;28mlist\u001B[39m[Index]:\n\u001B[0;32m    701\u001B[0m     ndim \u001B[38;5;241m=\u001B[39m \u001B[38;5;28mself\u001B[39m\u001B[38;5;241m.\u001B[39m_get_result_dim()\n\u001B[1;32m--> 702\u001B[0m     \u001B[38;5;28;01mreturn\u001B[39;00m [\n\u001B[0;32m    703\u001B[0m         \u001B[38;5;28mself\u001B[39m\u001B[38;5;241m.\u001B[39m_get_concat_axis \u001B[38;5;28;01mif\u001B[39;00m i \u001B[38;5;241m==\u001B[39m \u001B[38;5;28mself\u001B[39m\u001B[38;5;241m.\u001B[39mbm_axis \u001B[38;5;28;01melse\u001B[39;00m \u001B[38;5;28mself\u001B[39m\u001B[38;5;241m.\u001B[39m_get_comb_axis(i)\n\u001B[0;32m    704\u001B[0m         \u001B[38;5;28;01mfor\u001B[39;00m i \u001B[38;5;129;01min\u001B[39;00m \u001B[38;5;28mrange\u001B[39m(ndim)\n\u001B[0;32m    705\u001B[0m     ]\n",
      "File \u001B[1;32m~\\anaconda3\\envs\\FinancialMachineLearning\\Lib\\site-packages\\pandas\\core\\reshape\\concat.py:703\u001B[0m, in \u001B[0;36m<listcomp>\u001B[1;34m(.0)\u001B[0m\n\u001B[0;32m    699\u001B[0m \u001B[38;5;129m@cache_readonly\u001B[39m\n\u001B[0;32m    700\u001B[0m \u001B[38;5;28;01mdef\u001B[39;00m \u001B[38;5;21mnew_axes\u001B[39m(\u001B[38;5;28mself\u001B[39m) \u001B[38;5;241m-\u001B[39m\u001B[38;5;241m>\u001B[39m \u001B[38;5;28mlist\u001B[39m[Index]:\n\u001B[0;32m    701\u001B[0m     ndim \u001B[38;5;241m=\u001B[39m \u001B[38;5;28mself\u001B[39m\u001B[38;5;241m.\u001B[39m_get_result_dim()\n\u001B[0;32m    702\u001B[0m     \u001B[38;5;28;01mreturn\u001B[39;00m [\n\u001B[1;32m--> 703\u001B[0m         \u001B[38;5;28mself\u001B[39m\u001B[38;5;241m.\u001B[39m_get_concat_axis \u001B[38;5;28;01mif\u001B[39;00m i \u001B[38;5;241m==\u001B[39m \u001B[38;5;28mself\u001B[39m\u001B[38;5;241m.\u001B[39mbm_axis \u001B[38;5;28;01melse\u001B[39;00m \u001B[38;5;28mself\u001B[39m\u001B[38;5;241m.\u001B[39m_get_comb_axis(i)\n\u001B[0;32m    704\u001B[0m         \u001B[38;5;28;01mfor\u001B[39;00m i \u001B[38;5;129;01min\u001B[39;00m \u001B[38;5;28mrange\u001B[39m(ndim)\n\u001B[0;32m    705\u001B[0m     ]\n",
      "File \u001B[1;32mproperties.pyx:36\u001B[0m, in \u001B[0;36mpandas._libs.properties.CachedProperty.__get__\u001B[1;34m()\u001B[0m\n",
      "File \u001B[1;32m~\\anaconda3\\envs\\FinancialMachineLearning\\Lib\\site-packages\\pandas\\core\\reshape\\concat.py:760\u001B[0m, in \u001B[0;36m_Concatenator._get_concat_axis\u001B[1;34m(self)\u001B[0m\n\u001B[0;32m    758\u001B[0m     \u001B[38;5;28;01mif\u001B[39;00m \u001B[38;5;28mself\u001B[39m\u001B[38;5;241m.\u001B[39mlevels \u001B[38;5;129;01mis\u001B[39;00m \u001B[38;5;129;01mnot\u001B[39;00m \u001B[38;5;28;01mNone\u001B[39;00m:\n\u001B[0;32m    759\u001B[0m         \u001B[38;5;28;01mraise\u001B[39;00m \u001B[38;5;167;01mValueError\u001B[39;00m(\u001B[38;5;124m\"\u001B[39m\u001B[38;5;124mlevels supported only when keys is not None\u001B[39m\u001B[38;5;124m\"\u001B[39m)\n\u001B[1;32m--> 760\u001B[0m     concat_axis \u001B[38;5;241m=\u001B[39m _concat_indexes(indexes)\n\u001B[0;32m    761\u001B[0m \u001B[38;5;28;01melse\u001B[39;00m:\n\u001B[0;32m    762\u001B[0m     concat_axis \u001B[38;5;241m=\u001B[39m _make_concat_multiindex(\n\u001B[0;32m    763\u001B[0m         indexes, \u001B[38;5;28mself\u001B[39m\u001B[38;5;241m.\u001B[39mkeys, \u001B[38;5;28mself\u001B[39m\u001B[38;5;241m.\u001B[39mlevels, \u001B[38;5;28mself\u001B[39m\u001B[38;5;241m.\u001B[39mnames\n\u001B[0;32m    764\u001B[0m     )\n",
      "File \u001B[1;32m~\\anaconda3\\envs\\FinancialMachineLearning\\Lib\\site-packages\\pandas\\core\\reshape\\concat.py:778\u001B[0m, in \u001B[0;36m_concat_indexes\u001B[1;34m(indexes)\u001B[0m\n\u001B[0;32m    777\u001B[0m \u001B[38;5;28;01mdef\u001B[39;00m \u001B[38;5;21m_concat_indexes\u001B[39m(indexes) \u001B[38;5;241m-\u001B[39m\u001B[38;5;241m>\u001B[39m Index:\n\u001B[1;32m--> 778\u001B[0m     \u001B[38;5;28;01mreturn\u001B[39;00m indexes[\u001B[38;5;241m0\u001B[39m]\u001B[38;5;241m.\u001B[39mappend(indexes[\u001B[38;5;241m1\u001B[39m:])\n",
      "File \u001B[1;32m~\\anaconda3\\envs\\FinancialMachineLearning\\Lib\\site-packages\\pandas\\core\\indexes\\base.py:5489\u001B[0m, in \u001B[0;36mIndex.append\u001B[1;34m(self, other)\u001B[0m\n\u001B[0;32m   5486\u001B[0m names \u001B[38;5;241m=\u001B[39m {obj\u001B[38;5;241m.\u001B[39mname \u001B[38;5;28;01mfor\u001B[39;00m obj \u001B[38;5;129;01min\u001B[39;00m to_concat}\n\u001B[0;32m   5487\u001B[0m name \u001B[38;5;241m=\u001B[39m \u001B[38;5;28;01mNone\u001B[39;00m \u001B[38;5;28;01mif\u001B[39;00m \u001B[38;5;28mlen\u001B[39m(names) \u001B[38;5;241m>\u001B[39m \u001B[38;5;241m1\u001B[39m \u001B[38;5;28;01melse\u001B[39;00m \u001B[38;5;28mself\u001B[39m\u001B[38;5;241m.\u001B[39mname\n\u001B[1;32m-> 5489\u001B[0m \u001B[38;5;28;01mreturn\u001B[39;00m \u001B[38;5;28mself\u001B[39m\u001B[38;5;241m.\u001B[39m_concat(to_concat, name)\n",
      "File \u001B[1;32m~\\anaconda3\\envs\\FinancialMachineLearning\\Lib\\site-packages\\pandas\\core\\indexes\\base.py:5497\u001B[0m, in \u001B[0;36mIndex._concat\u001B[1;34m(self, to_concat, name)\u001B[0m\n\u001B[0;32m   5492\u001B[0m \u001B[38;5;250m\u001B[39m\u001B[38;5;124;03m\"\"\"\u001B[39;00m\n\u001B[0;32m   5493\u001B[0m \u001B[38;5;124;03mConcatenate multiple Index objects.\u001B[39;00m\n\u001B[0;32m   5494\u001B[0m \u001B[38;5;124;03m\"\"\"\u001B[39;00m\n\u001B[0;32m   5495\u001B[0m to_concat_vals \u001B[38;5;241m=\u001B[39m [x\u001B[38;5;241m.\u001B[39m_values \u001B[38;5;28;01mfor\u001B[39;00m x \u001B[38;5;129;01min\u001B[39;00m to_concat]\n\u001B[1;32m-> 5497\u001B[0m result \u001B[38;5;241m=\u001B[39m concat_compat(to_concat_vals)\n\u001B[0;32m   5499\u001B[0m \u001B[38;5;28;01mreturn\u001B[39;00m Index\u001B[38;5;241m.\u001B[39m_with_infer(result, name\u001B[38;5;241m=\u001B[39mname)\n",
      "File \u001B[1;32m~\\anaconda3\\envs\\FinancialMachineLearning\\Lib\\site-packages\\pandas\\core\\dtypes\\concat.py:85\u001B[0m, in \u001B[0;36mconcat_compat\u001B[1;34m(to_concat, axis, ea_compat_axis)\u001B[0m\n\u001B[0;32m     83\u001B[0m     \u001B[38;5;28;01mreturn\u001B[39;00m obj\u001B[38;5;241m.\u001B[39m_concat_same_type(to_concat_eas)\n\u001B[0;32m     84\u001B[0m \u001B[38;5;28;01melif\u001B[39;00m axis \u001B[38;5;241m==\u001B[39m \u001B[38;5;241m0\u001B[39m:\n\u001B[1;32m---> 85\u001B[0m     \u001B[38;5;28;01mreturn\u001B[39;00m obj\u001B[38;5;241m.\u001B[39m_concat_same_type(to_concat_eas)\n\u001B[0;32m     86\u001B[0m \u001B[38;5;28;01melse\u001B[39;00m:\n\u001B[0;32m     87\u001B[0m     \u001B[38;5;66;03m# e.g. DatetimeArray\u001B[39;00m\n\u001B[0;32m     88\u001B[0m     \u001B[38;5;66;03m# NB: We are assuming here that ensure_wrapped_if_arraylike has\u001B[39;00m\n\u001B[0;32m     89\u001B[0m     \u001B[38;5;66;03m#  been called where relevant.\u001B[39;00m\n\u001B[0;32m     90\u001B[0m     \u001B[38;5;28;01mreturn\u001B[39;00m obj\u001B[38;5;241m.\u001B[39m_concat_same_type(\n\u001B[0;32m     91\u001B[0m         \u001B[38;5;66;03m# error: Unexpected keyword argument \"axis\" for \"_concat_same_type\"\u001B[39;00m\n\u001B[0;32m     92\u001B[0m         \u001B[38;5;66;03m# of \"ExtensionArray\"\u001B[39;00m\n\u001B[0;32m     93\u001B[0m         to_concat_eas,\n\u001B[0;32m     94\u001B[0m         axis\u001B[38;5;241m=\u001B[39maxis,  \u001B[38;5;66;03m# type: ignore[call-arg]\u001B[39;00m\n\u001B[0;32m     95\u001B[0m     )\n",
      "File \u001B[1;32m~\\anaconda3\\envs\\FinancialMachineLearning\\Lib\\site-packages\\pandas\\core\\arrays\\datetimelike.py:2335\u001B[0m, in \u001B[0;36mTimelikeOps._concat_same_type\u001B[1;34m(cls, to_concat, axis)\u001B[0m\n\u001B[0;32m   2329\u001B[0m \u001B[38;5;129m@classmethod\u001B[39m\n\u001B[0;32m   2330\u001B[0m \u001B[38;5;28;01mdef\u001B[39;00m \u001B[38;5;21m_concat_same_type\u001B[39m(\n\u001B[0;32m   2331\u001B[0m     \u001B[38;5;28mcls\u001B[39m,\n\u001B[0;32m   2332\u001B[0m     to_concat: Sequence[Self],\n\u001B[0;32m   2333\u001B[0m     axis: AxisInt \u001B[38;5;241m=\u001B[39m \u001B[38;5;241m0\u001B[39m,\n\u001B[0;32m   2334\u001B[0m ) \u001B[38;5;241m-\u001B[39m\u001B[38;5;241m>\u001B[39m Self:\n\u001B[1;32m-> 2335\u001B[0m     new_obj \u001B[38;5;241m=\u001B[39m \u001B[38;5;28msuper\u001B[39m()\u001B[38;5;241m.\u001B[39m_concat_same_type(to_concat, axis)\n\u001B[0;32m   2337\u001B[0m     obj \u001B[38;5;241m=\u001B[39m to_concat[\u001B[38;5;241m0\u001B[39m]\n\u001B[0;32m   2339\u001B[0m     \u001B[38;5;28;01mif\u001B[39;00m axis \u001B[38;5;241m==\u001B[39m \u001B[38;5;241m0\u001B[39m:\n\u001B[0;32m   2340\u001B[0m         \u001B[38;5;66;03m# GH 3232: If the concat result is evenly spaced, we can retain the\u001B[39;00m\n\u001B[0;32m   2341\u001B[0m         \u001B[38;5;66;03m# original frequency\u001B[39;00m\n",
      "File \u001B[1;32m~\\anaconda3\\envs\\FinancialMachineLearning\\Lib\\site-packages\\pandas\\core\\arrays\\_mixins.py:238\u001B[0m, in \u001B[0;36mNDArrayBackedExtensionArray._concat_same_type\u001B[1;34m(cls, to_concat, axis)\u001B[0m\n\u001B[0;32m    235\u001B[0m     dtypes \u001B[38;5;241m=\u001B[39m {\u001B[38;5;28mstr\u001B[39m(x\u001B[38;5;241m.\u001B[39mdtype) \u001B[38;5;28;01mfor\u001B[39;00m x \u001B[38;5;129;01min\u001B[39;00m to_concat}\n\u001B[0;32m    236\u001B[0m     \u001B[38;5;28;01mraise\u001B[39;00m \u001B[38;5;167;01mValueError\u001B[39;00m(\u001B[38;5;124m\"\u001B[39m\u001B[38;5;124mto_concat must have the same dtype\u001B[39m\u001B[38;5;124m\"\u001B[39m, dtypes)\n\u001B[1;32m--> 238\u001B[0m \u001B[38;5;28;01mreturn\u001B[39;00m \u001B[38;5;28msuper\u001B[39m()\u001B[38;5;241m.\u001B[39m_concat_same_type(to_concat, axis\u001B[38;5;241m=\u001B[39maxis)\n",
      "\u001B[1;31mKeyboardInterrupt\u001B[0m: "
     ]
    }
   ],
   "source": [
    "dataframes = dict()\n",
    "dataframes_plot = dict()\n",
    "\n",
    "for asset_index in ['AAPL','MSFT','TSLA'] :\n",
    "    dataframes[asset_index] = dict()\n",
    "    dataframes_plot[asset_index] = dict()\n",
    "    for d, thres in tqdm(items) :\n",
    "        thres = round(-thres * 100, 1)\n",
    "        dataframes[asset_index][f'day{d}_{thres}per'] = pd.DataFrame(index = stocks.index)\n",
    "        dataframes_plot[asset_index][f'day{d}_{thres}per_plot'] = pd.DataFrame(index = stocks.index)\n",
    "        \n",
    "        for i in range(1, 501) :\n",
    "            try:\n",
    "                temp = cumret[asset_index].iloc[\n",
    "                            asset[asset_index][asset[asset_index][str(-i) + 'days'] < -thres * 0.01].index + d\n",
    "                        ] - cumret[asset_index].iloc[asset[asset_index][asset[asset_index][str(-i) + 'days'] < -thres * 0.01].index].values\n",
    "                \n",
    "            except IndexError:\n",
    "                print(f\"IndexError occurred for {asset_index} at iteration {i}, skipping...\")\n",
    "                temp = pd.DataFrame(\n",
    "                    index = stocks.index\n",
    "                )\n",
    "                temp['temp'] = np.nan\n",
    "                \n",
    "            dataframes[asset_index][f'day{d}_{thres}per'] = pd.concat(\n",
    "                    [dataframes[asset_index][f'day{d}_{thres}per'], temp], axis = 1\n",
    "            )\n",
    "            dataframes_plot[asset_index][f'day{d}_{thres}per_plot'] = pd.concat(\n",
    "                [dataframes_plot[asset_index][f'day{d}_{thres}per_plot'], temp], axis = 0\n",
    "            )\n",
    "        dataframes[asset_index][f'day{d}_{thres}per'].columns = [str(-i) + 'days' for i in range(1, 501)]\n",
    "        dataframes[asset_index][f'day{d}_{thres}per'].to_excel(f'./excel/{asset_index}_day{d}_{int(thres)}per.xlsx')"
   ],
   "metadata": {
    "collapsed": false,
    "ExecuteTime": {
     "end_time": "2024-03-23T09:24:47.841317Z",
     "start_time": "2024-03-23T09:24:43.536684Z"
    }
   },
   "id": "5110850176f7b502",
   "execution_count": 79
  },
  {
   "cell_type": "code",
   "outputs": [],
   "source": [],
   "metadata": {
    "collapsed": false
   },
   "id": "d47d72827e5bad39"
  }
 ],
 "metadata": {
  "kernelspec": {
   "display_name": "Python 3",
   "language": "python",
   "name": "python3"
  },
  "language_info": {
   "codemirror_mode": {
    "name": "ipython",
    "version": 2
   },
   "file_extension": ".py",
   "mimetype": "text/x-python",
   "name": "python",
   "nbconvert_exporter": "python",
   "pygments_lexer": "ipython2",
   "version": "2.7.6"
  }
 },
 "nbformat": 4,
 "nbformat_minor": 5
}
