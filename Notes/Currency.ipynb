{
 "cells": [
  {
   "cell_type": "markdown",
   "source": [
    "### Currency\n",
    "\n",
    "USD/KRW, USD/JPY"
   ],
   "metadata": {
    "collapsed": false
   },
   "id": "47be23cc4df7f8d"
  },
  {
   "cell_type": "code",
   "execution_count": 8,
   "id": "initial_id",
   "metadata": {
    "collapsed": true,
    "ExecuteTime": {
     "end_time": "2024-03-26T05:13:30.535631Z",
     "start_time": "2024-03-26T05:13:30.506509Z"
    }
   },
   "outputs": [
    {
     "name": "stderr",
     "output_type": "stream",
     "text": [
      "[*********************100%%**********************]  2 of 2 completed\n"
     ]
    }
   ],
   "source": [
    "import yfinance as yf\n",
    "import pandas as pd\n",
    "import numpy as np\n",
    "import matplotlib.pyplot as plt\n",
    "import seaborn as sns\n",
    "import warnings\n",
    "warnings.filterwarnings(\"ignore\")\n",
    "\n",
    "start_date = '2014-01-01'\n",
    "end_date = '2024-03-25'\n",
    "\n",
    "stock_tickers = ['KRW=X','JPY=X']\n",
    "stocks = yf.download(tickers = stock_tickers, start = start_date, end = end_date)['Adj Close']"
   ]
  },
  {
   "cell_type": "code",
   "outputs": [
    {
     "data": {
      "text/plain": "Ticker           JPY=X        KRW=X\nDate                               \n2014-01-01  105.300003  1054.800049\n2014-01-02  105.323997  1050.750000\n2014-01-03  104.833000  1049.599976\n2014-01-06  104.912003  1053.800049\n2014-01-07  104.209999  1065.400024\n...                ...          ...\n2024-03-18  148.955002  1329.339966\n2024-03-19  149.143997  1336.089966\n2024-03-20  151.035004  1337.020020\n2024-03-21  150.759995  1330.109985\n2024-03-22  151.632996  1334.680054\n\n[2665 rows x 2 columns]",
      "text/html": "<div>\n<style scoped>\n    .dataframe tbody tr th:only-of-type {\n        vertical-align: middle;\n    }\n\n    .dataframe tbody tr th {\n        vertical-align: top;\n    }\n\n    .dataframe thead th {\n        text-align: right;\n    }\n</style>\n<table border=\"1\" class=\"dataframe\">\n  <thead>\n    <tr style=\"text-align: right;\">\n      <th>Ticker</th>\n      <th>JPY=X</th>\n      <th>KRW=X</th>\n    </tr>\n    <tr>\n      <th>Date</th>\n      <th></th>\n      <th></th>\n    </tr>\n  </thead>\n  <tbody>\n    <tr>\n      <th>2014-01-01</th>\n      <td>105.300003</td>\n      <td>1054.800049</td>\n    </tr>\n    <tr>\n      <th>2014-01-02</th>\n      <td>105.323997</td>\n      <td>1050.750000</td>\n    </tr>\n    <tr>\n      <th>2014-01-03</th>\n      <td>104.833000</td>\n      <td>1049.599976</td>\n    </tr>\n    <tr>\n      <th>2014-01-06</th>\n      <td>104.912003</td>\n      <td>1053.800049</td>\n    </tr>\n    <tr>\n      <th>2014-01-07</th>\n      <td>104.209999</td>\n      <td>1065.400024</td>\n    </tr>\n    <tr>\n      <th>...</th>\n      <td>...</td>\n      <td>...</td>\n    </tr>\n    <tr>\n      <th>2024-03-18</th>\n      <td>148.955002</td>\n      <td>1329.339966</td>\n    </tr>\n    <tr>\n      <th>2024-03-19</th>\n      <td>149.143997</td>\n      <td>1336.089966</td>\n    </tr>\n    <tr>\n      <th>2024-03-20</th>\n      <td>151.035004</td>\n      <td>1337.020020</td>\n    </tr>\n    <tr>\n      <th>2024-03-21</th>\n      <td>150.759995</td>\n      <td>1330.109985</td>\n    </tr>\n    <tr>\n      <th>2024-03-22</th>\n      <td>151.632996</td>\n      <td>1334.680054</td>\n    </tr>\n  </tbody>\n</table>\n<p>2665 rows × 2 columns</p>\n</div>"
     },
     "execution_count": 9,
     "metadata": {},
     "output_type": "execute_result"
    }
   ],
   "source": [
    "stocks"
   ],
   "metadata": {
    "collapsed": false,
    "ExecuteTime": {
     "end_time": "2024-03-26T05:13:30.998621Z",
     "start_time": "2024-03-26T05:13:30.993520Z"
    }
   },
   "id": "eb6cc2c246eb9411",
   "execution_count": 9
  },
  {
   "cell_type": "code",
   "outputs": [],
   "source": [
    "stocks_ret = stocks.pct_change()\n",
    "cumret = ((1 + stocks_ret).cumprod() - 1).fillna(0)\n",
    "\n",
    "days = [i for i in range(3, 62, 2)]\n",
    "threshold = tuple([-i * 0.01 for i in range(3, 21)])\n",
    "items = [(i, j) for i in days for j in threshold]\n",
    "\n",
    "asset = dict()\n",
    "for i in cumret.columns :\n",
    "    asset[i] = pd.DataFrame(index = stocks.index)\n",
    "\n",
    "for i in cumret.columns :\n",
    "    for j in range(1, 501) :\n",
    "        asset[i]['-' + str(j) + 'days'] = (stocks[i] - stocks[i].shift(j)) / stocks[i]\n",
    "\n",
    "for i in cumret.columns :\n",
    "    asset[i].to_csv(i + '_returns_data_adj.csv')\n",
    "    asset[i].to_excel(i + '_returns_data_adj.xlsx')\n",
    "\n",
    "for i in cumret.columns :\n",
    "    asset[i].index = range(len(stocks))"
   ],
   "metadata": {
    "collapsed": false,
    "ExecuteTime": {
     "end_time": "2024-03-26T05:13:53.940720Z",
     "start_time": "2024-03-26T05:13:31.570312Z"
    }
   },
   "id": "2cb3e18321eebab3",
   "execution_count": 10
  },
  {
   "cell_type": "code",
   "outputs": [
    {
     "name": "stderr",
     "output_type": "stream",
     "text": [
      "100%|██████████| 540/540 [2:47:54<00:00, 18.66s/it]  \n",
      "100%|██████████| 540/540 [2:05:04<00:00, 13.90s/it]  \n"
     ]
    }
   ],
   "source": [
    "from tqdm import tqdm\n",
    "dataframes = dict()\n",
    "dataframes_plot = dict()\n",
    "\n",
    "for asset_index in cumret.columns :\n",
    "    dataframes[asset_index] = dict()\n",
    "    dataframes_plot[asset_index] = dict()\n",
    "    for d, thres in tqdm(items) :\n",
    "        thres = round(-thres * 100, 1)\n",
    "        dataframes[asset_index][f'day{d}_{thres}per'] = pd.DataFrame(index = stocks.index)\n",
    "        dataframes_plot[asset_index][f'day{d}_{thres}per_plot'] = pd.DataFrame(index = stocks.index)\n",
    "        \n",
    "        for i in range(1, 501) :\n",
    "            temp = ((1 + cumret[asset_index].iloc[\n",
    "                        asset[asset_index][asset[asset_index][str(-i) + 'days'] < -thres * 0.01][:-d].index + d\n",
    "                    ]) / (1 + cumret[asset_index].iloc[asset[asset_index][asset[asset_index][str(-i) + 'days'] < -thres * 0.01][:-d].index].values)) -1\n",
    "            dataframes[asset_index][f'day{d}_{thres}per'] = pd.concat(\n",
    "                    [dataframes[asset_index][f'day{d}_{thres}per'], temp], axis = 1\n",
    "            )\n",
    "            dataframes_plot[asset_index][f'day{d}_{thres}per_plot'] = pd.concat(\n",
    "                [dataframes_plot[asset_index][f'day{d}_{thres}per_plot'], temp], axis = 0\n",
    "            )\n",
    "        dataframes[asset_index][f'day{d}_{thres}per'].columns = [str(-i) + 'days' for i in range(1, 501)]\n",
    "        dataframes[asset_index][f'day{d}_{thres}per'].to_excel(f'./excel/{asset_index}_day{d}_{int(thres)}per.xlsx')"
   ],
   "metadata": {
    "collapsed": false,
    "ExecuteTime": {
     "end_time": "2024-03-26T10:07:44.880766Z",
     "start_time": "2024-03-26T05:14:45.713634Z"
    }
   },
   "id": "443b76b3355362fd",
   "execution_count": 12
  }
 ],
 "metadata": {
  "kernelspec": {
   "display_name": "Python 3",
   "language": "python",
   "name": "python3"
  },
  "language_info": {
   "codemirror_mode": {
    "name": "ipython",
    "version": 2
   },
   "file_extension": ".py",
   "mimetype": "text/x-python",
   "name": "python",
   "nbconvert_exporter": "python",
   "pygments_lexer": "ipython2",
   "version": "2.7.6"
  }
 },
 "nbformat": 4,
 "nbformat_minor": 5
}
