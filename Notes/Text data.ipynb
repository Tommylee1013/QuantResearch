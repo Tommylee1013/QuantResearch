{
 "cells": [
  {
   "cell_type": "markdown",
   "source": [
    "### Text data\n",
    "\n",
    "텍스트 데이터를 유의미하게 사용할 수 있을까?"
   ],
   "metadata": {
    "collapsed": false
   },
   "id": "ac2bd159005045a6"
  },
  {
   "cell_type": "code",
   "outputs": [],
   "source": [],
   "metadata": {
    "collapsed": false
   },
   "id": "449a25e24743ecf2"
  }
 ],
 "metadata": {
  "kernelspec": {
   "display_name": "Python 3",
   "language": "python",
   "name": "python3"
  },
  "language_info": {
   "codemirror_mode": {
    "name": "ipython",
    "version": 2
   },
   "file_extension": ".py",
   "mimetype": "text/x-python",
   "name": "python",
   "nbconvert_exporter": "python",
   "pygments_lexer": "ipython2",
   "version": "2.7.6"
  }
 },
 "nbformat": 4,
 "nbformat_minor": 5
}
